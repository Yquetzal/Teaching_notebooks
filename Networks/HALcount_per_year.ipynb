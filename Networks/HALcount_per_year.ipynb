{
 "cells": [
  {
   "cell_type": "code",
   "execution_count": 1,
   "metadata": {
    "id": "f05TmilMMmlb"
   },
   "outputs": [],
   "source": [
    "#Importe des fonctions utiles\n",
    "import requests\n",
    "import pandas as pd\n",
    "import io\n",
    "import collections\n",
    "from itertools import combinations\n",
    "import networkx as nx\n",
    "pd.options.display.max_colwidth = 100\n",
    "import seaborn as sns\n",
    "from matplotlib import pyplot as plt"
   ]
  },
  {
   "cell_type": "code",
   "execution_count": 2,
   "metadata": {
    "colab": {
     "base_uri": "https://localhost:8080/"
    },
    "id": "3NfLz97JM1oh",
    "outputId": "f9658590-9569-4860-b2c8-c026d75b430c"
   },
   "outputs": [
    {
     "name": "stdout",
     "output_type": "stream",
     "text": [
      "--2023-11-27 11:35:24--  https://raw.githubusercontent.com/Yquetzal/Teaching_notebooks/main/Networks/HALfunctions.py\n",
      "Resolving raw.githubusercontent.com (raw.githubusercontent.com)... 185.199.110.133, 185.199.108.133, 185.199.109.133, ...\n",
      "Connecting to raw.githubusercontent.com (raw.githubusercontent.com)|185.199.110.133|:443... connected.\n",
      "HTTP request sent, awaiting response... 200 OK\n",
      "Length: 9183 (9.0K) [text/plain]\n",
      "Saving to: ‘HALfunctions.py.2’\n",
      "\n",
      "HALfunctions.py.2   100%[===================>]   8.97K  --.-KB/s    in 0s      \n",
      "\n",
      "2023-11-27 11:35:25 (56.9 MB/s) - ‘HALfunctions.py.2’ saved [9183/9183]\n",
      "\n"
     ]
    }
   ],
   "source": [
    "#Importe les fonctions pour travailler avec l'API de HAL, pour les détails, voir\n",
    "# https://colab.research.google.com/github/Yquetzal/Teaching_notebooks/blob/main/Networks/cours_HAL_network.ipynb#scrollTo=d1ee2598\n",
    "\n",
    "!wget https://raw.githubusercontent.com/Yquetzal/Teaching_notebooks/main/Networks/HALfunctions.py\n"
   ]
  },
  {
   "cell_type": "code",
   "execution_count": 3,
   "metadata": {},
   "outputs": [],
   "source": [
    "from HALfunctions import get_all_elements, co_occurence_network,co_occurence_network_laboratory,column_most_common,bi_partite_network,bi_partite_network_generic"
   ]
  },
  {
   "cell_type": "markdown",
   "metadata": {
    "id": "oDt5yXKnUjsJ"
   },
   "source": [
    "# Faire la requête"
   ]
  },
  {
   "cell_type": "code",
   "execution_count": 83,
   "metadata": {
    "id": "FT3x142lXM5j"
   },
   "outputs": [
    {
     "name": "stdout",
     "output_type": "stream",
     "text": [
      "Nombre d'éléments au total :  3334\n",
      "Éléments récupérés :  1000\n",
      "Éléments récupérés :  2000\n",
      "Éléments récupérés :  3000\n",
      "Éléments récupérés :  3334\n"
     ]
    },
    {
     "data": {
      "text/html": [
       "<div>\n",
       "<style scoped>\n",
       "    .dataframe tbody tr th:only-of-type {\n",
       "        vertical-align: middle;\n",
       "    }\n",
       "\n",
       "    .dataframe tbody tr th {\n",
       "        vertical-align: top;\n",
       "    }\n",
       "\n",
       "    .dataframe thead th {\n",
       "        text-align: right;\n",
       "    }\n",
       "</style>\n",
       "<table border=\"1\" class=\"dataframe\">\n",
       "  <thead>\n",
       "    <tr style=\"text-align: right;\">\n",
       "      <th></th>\n",
       "      <th>title_s</th>\n",
       "      <th>authFullName_s</th>\n",
       "      <th>structAcronym_s</th>\n",
       "      <th>structCountry_s</th>\n",
       "      <th>structAddress_s</th>\n",
       "      <th>structType_s</th>\n",
       "      <th>structName_s</th>\n",
       "      <th>level1_domain_s</th>\n",
       "      <th>keyword_s</th>\n",
       "      <th>publicationDateY_i</th>\n",
       "    </tr>\n",
       "  </thead>\n",
       "  <tbody>\n",
       "    <tr>\n",
       "      <th>0</th>\n",
       "      <td>Advanced Virgo: a second-generation interferometric gravitational wave detector</td>\n",
       "      <td>F. Acernese,M. Agathos,K. Agatsuma,D. Aisa,N. Allemandou,A. Allocca,J. Amarni,P. Astone,G. Bales...</td>\n",
       "      <td>LAPP,IN2P3,USMB [Université de Savoie] [Université de Chambéry],CNRS,APC (UMR_7164),CEA,IN2P3,PS...</td>\n",
       "      <td>fr,fr,fr,fr,fr,fr,fr,fr,fr,fr,fr,it,it,fr,fr,fr,fr,fr,fr,fr,fr,fr,fr,fr,fr,fr,fr,fr,fr,fr,fr,fr,...</td>\n",
       "      <td>9 Chemin de Bellevue - BP 110 - 74941 Annecy-le-Vieux CEDEX - France,CENTRE NATIONAL DE LA RECHE...</td>\n",
       "      <td>laboratory,institution,institution,regroupinstitution,laboratory,institution,institution,institu...</td>\n",
       "      <td>Laboratoire d'Annecy de Physique des Particules,Institut National de Physique Nucléaire et de Ph...</td>\n",
       "      <td>phys.grqc,phys.phys</td>\n",
       "      <td>NaN</td>\n",
       "      <td>2015</td>\n",
       "    </tr>\n",
       "    <tr>\n",
       "      <th>1</th>\n",
       "      <td>De l'habileté dans les interactions numériques aux compétences professionnelles de l'animateur d...</td>\n",
       "      <td>Valérie Larroche,Hélène Piment</td>\n",
       "      <td>ELICO,UL2,ENSSIB,IEP Lyon,UJML,UCBL</td>\n",
       "      <td>fr,fr,fr,fr,fr,fr,fr,fr,fr,fr</td>\n",
       "      <td>Université Lumière Lyon 2 - Département ICOM5 avenue Pierre-Mendes-France 69676 Bron,86\\, rue Pa...</td>\n",
       "      <td>laboratory,institution,institution,regroupinstitution,institution,regroupinstitution,institution...</td>\n",
       "      <td>Equipe de recherche de Lyon en sciences de l'information et de la communication,Université Lumiè...</td>\n",
       "      <td>shs.info</td>\n",
       "      <td>Media visibility,Enterprise social network,Professional digital identity,Professional recognitio...</td>\n",
       "      <td>2015</td>\n",
       "    </tr>\n",
       "    <tr>\n",
       "      <th>2</th>\n",
       "      <td>Characterization of the LIGO detectors during their sixth science run</td>\n",
       "      <td>J. Aasi,M.-A. Bizouard,V. Brisson,F. Cavalier,M. Davier,S. Franco,P. Hello,N. Leroy,F. Robinet,T...</td>\n",
       "      <td>CALTECH,LAL,UP11,IN2P3,CNRS,LAPP,IN2P3,USMB [Université de Savoie] [Université de Chambéry],CNRS...</td>\n",
       "      <td>us,us,fr,fr,fr,fr,fr,fr,fr,fr,fr,fr,fr,fr,fr,fr,fr,fr</td>\n",
       "      <td>91125;Pasadena,1200 East California Blvd\\, Pasadena\\, California 91125,Centre Scientifique d'Ors...</td>\n",
       "      <td>laboratory,institution,laboratory,institution,institution,regroupinstitution,laboratory,institut...</td>\n",
       "      <td>LIGO,California Institute of Technology,Laboratoire de l'Accélérateur Linéaire,Université Paris-...</td>\n",
       "      <td>phys.grqc,phys.astr</td>\n",
       "      <td>NaN</td>\n",
       "      <td>2015</td>\n",
       "    </tr>\n",
       "  </tbody>\n",
       "</table>\n",
       "</div>"
      ],
      "text/plain": [
       "                                                                                               title_s  \\\n",
       "0                      Advanced Virgo: a second-generation interferometric gravitational wave detector   \n",
       "1  De l'habileté dans les interactions numériques aux compétences professionnelles de l'animateur d...   \n",
       "2                                Characterization of the LIGO detectors during their sixth science run   \n",
       "\n",
       "                                                                                        authFullName_s  \\\n",
       "0  F. Acernese,M. Agathos,K. Agatsuma,D. Aisa,N. Allemandou,A. Allocca,J. Amarni,P. Astone,G. Bales...   \n",
       "1                                                                       Valérie Larroche,Hélène Piment   \n",
       "2  J. Aasi,M.-A. Bizouard,V. Brisson,F. Cavalier,M. Davier,S. Franco,P. Hello,N. Leroy,F. Robinet,T...   \n",
       "\n",
       "                                                                                       structAcronym_s  \\\n",
       "0  LAPP,IN2P3,USMB [Université de Savoie] [Université de Chambéry],CNRS,APC (UMR_7164),CEA,IN2P3,PS...   \n",
       "1                                                                  ELICO,UL2,ENSSIB,IEP Lyon,UJML,UCBL   \n",
       "2  CALTECH,LAL,UP11,IN2P3,CNRS,LAPP,IN2P3,USMB [Université de Savoie] [Université de Chambéry],CNRS...   \n",
       "\n",
       "                                                                                       structCountry_s  \\\n",
       "0  fr,fr,fr,fr,fr,fr,fr,fr,fr,fr,fr,it,it,fr,fr,fr,fr,fr,fr,fr,fr,fr,fr,fr,fr,fr,fr,fr,fr,fr,fr,fr,...   \n",
       "1                                                                        fr,fr,fr,fr,fr,fr,fr,fr,fr,fr   \n",
       "2                                                us,us,fr,fr,fr,fr,fr,fr,fr,fr,fr,fr,fr,fr,fr,fr,fr,fr   \n",
       "\n",
       "                                                                                       structAddress_s  \\\n",
       "0  9 Chemin de Bellevue - BP 110 - 74941 Annecy-le-Vieux CEDEX - France,CENTRE NATIONAL DE LA RECHE...   \n",
       "1  Université Lumière Lyon 2 - Département ICOM5 avenue Pierre-Mendes-France 69676 Bron,86\\, rue Pa...   \n",
       "2  91125;Pasadena,1200 East California Blvd\\, Pasadena\\, California 91125,Centre Scientifique d'Ors...   \n",
       "\n",
       "                                                                                          structType_s  \\\n",
       "0  laboratory,institution,institution,regroupinstitution,laboratory,institution,institution,institu...   \n",
       "1  laboratory,institution,institution,regroupinstitution,institution,regroupinstitution,institution...   \n",
       "2  laboratory,institution,laboratory,institution,institution,regroupinstitution,laboratory,institut...   \n",
       "\n",
       "                                                                                          structName_s  \\\n",
       "0  Laboratoire d'Annecy de Physique des Particules,Institut National de Physique Nucléaire et de Ph...   \n",
       "1  Equipe de recherche de Lyon en sciences de l'information et de la communication,Université Lumiè...   \n",
       "2  LIGO,California Institute of Technology,Laboratoire de l'Accélérateur Linéaire,Université Paris-...   \n",
       "\n",
       "       level1_domain_s  \\\n",
       "0  phys.grqc,phys.phys   \n",
       "1             shs.info   \n",
       "2  phys.grqc,phys.astr   \n",
       "\n",
       "                                                                                             keyword_s  \\\n",
       "0                                                                                                  NaN   \n",
       "1  Media visibility,Enterprise social network,Professional digital identity,Professional recognitio...   \n",
       "2                                                                                                  NaN   \n",
       "\n",
       "   publicationDateY_i  \n",
       "0                2015  \n",
       "1                2015  \n",
       "2                2015  "
      ]
     },
     "execution_count": 83,
     "metadata": {},
     "output_type": "execute_result"
    }
   ],
   "source": [
    "# Here, detail the request. This exmaple: articles whose abstract contains \"easy\", \n",
    "# published between 2020 et 2022, at l'université de Lyon.\n",
    "\n",
    "domain=\"UNIV-LYON/\"\n",
    "words=\"(network OR graph)\"\n",
    "dates=\"[2015 TO 2022]\"\n",
    "columns=\"title_s,authFullName_s,structAcronym_s,structCountry_s,structAddress_s,structType_s,structName_s,level1_domain_s,keyword_s,publicationDateY_i\"\n",
    "\n",
    "request = \"http://api.archives-ouvertes.fr/search/\"+domain+\"?q=\"+words+\"&fq=publicationDate_s:\"+dates+\"&fl=\"+columns\n",
    "simple_example = get_all_elements(request)\n",
    "simple_example.head(3)"
   ]
  },
  {
   "cell_type": "code",
   "execution_count": 84,
   "metadata": {},
   "outputs": [],
   "source": [
    "from collections import Counter\n",
    "\n",
    "def list_per_year(df,column_name):\n",
    "\n",
    "    df = df.copy()\n",
    "    df[column_name]=[str(k).replace(\"\\\\,\",\"_\").split(\",\") for k in df[column_name]]\n",
    "    df_exploded = df.explode(column_name)\n",
    "    df_exploded = df_exploded[df_exploded[column_name]!=\"nan\"]\n",
    "\n",
    "    df_by_year = df_exploded.groupby(\"publicationDateY_i\").agg({column_name: lambda x: list(x)})\n",
    "    return df_by_year"
   ]
  },
  {
   "cell_type": "code",
   "execution_count": 85,
   "metadata": {},
   "outputs": [],
   "source": [
    "def count_per_year(df,column_name):\n",
    "    df = df.copy()\n",
    "    df_by_year = list_per_year(df,column_name)\n",
    "    #df_by_year[\"count\"]=[Counter(k) for k in df_by_year[column_name]]\n",
    "    #explode in two columns, name and count\n",
    "    df_by_year = df_by_year.explode(column_name)\n",
    "    #remove where value of column column_name is \"nan\"\n",
    "\n",
    "    df_by_year = df_by_year.groupby([\"publicationDateY_i\",column_name]).agg(nb_occ= (column_name,\"count\"))\n",
    "    #df_by_year[\"name\"] = [k[0] for k in df_by_year[\"count\"]]\n",
    "    #df_by_year[\"count\"] = [k[1] for k in df_by_year[\"count\"]]\n",
    "    \n",
    "    return df_by_year"
   ]
  },
  {
   "cell_type": "code",
   "execution_count": null,
   "metadata": {},
   "outputs": [],
   "source": []
  },
  {
   "cell_type": "code",
   "execution_count": 87,
   "metadata": {},
   "outputs": [],
   "source": [
    "df = count_per_year(simple_example,\"keyword_s\").reset_index()"
   ]
  },
  {
   "cell_type": "code",
   "execution_count": 89,
   "metadata": {},
   "outputs": [
    {
     "data": {
      "text/html": [
       "<div>\n",
       "<style scoped>\n",
       "    .dataframe tbody tr th:only-of-type {\n",
       "        vertical-align: middle;\n",
       "    }\n",
       "\n",
       "    .dataframe tbody tr th {\n",
       "        vertical-align: top;\n",
       "    }\n",
       "\n",
       "    .dataframe thead th {\n",
       "        text-align: right;\n",
       "    }\n",
       "</style>\n",
       "<table border=\"1\" class=\"dataframe\">\n",
       "  <thead>\n",
       "    <tr style=\"text-align: right;\">\n",
       "      <th></th>\n",
       "      <th>publicationDateY_i</th>\n",
       "      <th>keyword_s</th>\n",
       "      <th>nb_occ</th>\n",
       "    </tr>\n",
       "  </thead>\n",
       "  <tbody>\n",
       "    <tr>\n",
       "      <th>12110</th>\n",
       "      <td>2021</td>\n",
       "      <td>Deep learning</td>\n",
       "      <td>17</td>\n",
       "    </tr>\n",
       "    <tr>\n",
       "      <th>10069</th>\n",
       "      <td>2020</td>\n",
       "      <td>Deep learning</td>\n",
       "      <td>12</td>\n",
       "    </tr>\n",
       "    <tr>\n",
       "      <th>12392</th>\n",
       "      <td>2021</td>\n",
       "      <td>France</td>\n",
       "      <td>11</td>\n",
       "    </tr>\n",
       "    <tr>\n",
       "      <th>3668</th>\n",
       "      <td>2017</td>\n",
       "      <td>Analyse de réseaux</td>\n",
       "      <td>9</td>\n",
       "    </tr>\n",
       "    <tr>\n",
       "      <th>10882</th>\n",
       "      <td>2020</td>\n",
       "      <td>Network</td>\n",
       "      <td>9</td>\n",
       "    </tr>\n",
       "  </tbody>\n",
       "</table>\n",
       "</div>"
      ],
      "text/plain": [
       "       publicationDateY_i           keyword_s  nb_occ\n",
       "12110                2021       Deep learning      17\n",
       "10069                2020       Deep learning      12\n",
       "12392                2021              France      11\n",
       "3668                 2017  Analyse de réseaux       9\n",
       "10882                2020             Network       9"
      ]
     },
     "execution_count": 89,
     "metadata": {},
     "output_type": "execute_result"
    }
   ],
   "source": [
    "df.sort_values(\"nb_occ\",ascending=False).head(5)"
   ]
  },
  {
   "cell_type": "code",
   "execution_count": 94,
   "metadata": {},
   "outputs": [],
   "source": [
    "#filter table so as to keep only the most common keywords, first grouping per year summing and filtering\n",
    "df_count = df.groupby([\"keyword_s\"]).agg(nb_occ= (\"nb_occ\",\"sum\")).reset_index()\n",
    "\n",
    "df_count = df_count[df_count[\"nb_occ\"]>30]\n",
    "#then, filter the original table\n",
    "df = df[df[\"keyword_s\"].isin(df_count[\"keyword_s\"])]\n"
   ]
  },
  {
   "cell_type": "code",
   "execution_count": 95,
   "metadata": {},
   "outputs": [
    {
     "data": {
      "image/png": "[encoded data removed]",
      "text/plain": [
       "<Figure size 432x288 with 1 Axes>"
      ]
     },
     "metadata": {
      "needs_background": "light"
     },
     "output_type": "display_data"
    }
   ],
   "source": [
    "#plot evolution keywords usage over time\n",
    "sns.lineplot(data=df,x=\"publicationDateY_i\",y=\"nb_occ\",hue=\"keyword_s\")\n",
    "#make dates readable\n",
    "plt.xticks(rotation=45)\n",
    "#display only ticks per year, i.e., integer values\n",
    "plt.gca().xaxis.set_major_locator(plt.MaxNLocator(integer=True))"
   ]
  },
  {
   "cell_type": "code",
   "execution_count": 96,
   "metadata": {},
   "outputs": [
    {
     "data": {
      "text/plain": [
       "<Axes: xlabel='publicationDateY_i', ylabel='nb_occ'>"
      ]
     },
     "execution_count": 96,
     "metadata": {},
     "output_type": "execute_result"
    },
    {
     "data": {
      "image/png": "[encoded data removed]",
      "text/plain": [
       "<Figure size 432x288 with 1 Axes>"
      ]
     },
     "metadata": {
      "needs_background": "light"
     },
     "output_type": "display_data"
    }
   ],
   "source": [
    "# or keep only specific keywords \"Network analysis\" and \"Deep learning\"\n",
    "df = df[df[\"keyword_s\"].isin([\"Network analysis\",\"Deep learning\"])]\n",
    "sns.lineplot(data=df,x=\"publicationDateY_i\",y=\"nb_occ\",hue=\"keyword_s\")\n"
   ]
  },
  {
   "cell_type": "code",
   "execution_count": null,
   "metadata": {},
   "outputs": [],
   "source": []
  },
  {
   "cell_type": "code",
   "execution_count": 19,
   "metadata": {},
   "outputs": [],
   "source": []
  },
  {
   "cell_type": "code",
   "execution_count": null,
   "metadata": {},
   "outputs": [],
   "source": []
  },
  {
   "cell_type": "code",
   "execution_count": null,
   "metadata": {},
   "outputs": [],
   "source": []
  }
 ],
 "metadata": {
  "colab": {
   "collapsed_sections": [],
   "name": "Sandbox.ipynb",
   "provenance": []
  },
  "kernelspec": {
   "display_name": "Python 3 (ipykernel)",
   "language": "python",
   "name": "python3"
  },
  "language_info": {
   "codemirror_mode": {
    "name": "ipython",
    "version": 3
   },
   "file_extension": ".py",
   "mimetype": "text/x-python",
   "name": "python",
   "nbconvert_exporter": "python",
   "pygments_lexer": "ipython3",
   "version": "3.8.8"
  }
 },
 "nbformat": 4,
 "nbformat_minor": 1
}
