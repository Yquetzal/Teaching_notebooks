{
 "cells": [
  {
   "cell_type": "code",
   "execution_count": 1,
   "metadata": {
    "id": "f05TmilMMmlb"
   },
   "outputs": [],
   "source": [
    "import requests\n",
    "import pandas as pd\n",
    "import io\n",
    "import collections\n",
    "from itertools import combinations\n",
    "import networkx as nx\n",
    "pd.options.display.max_colwidth = 100\n",
    "import seaborn as sns\n",
    "from matplotlib import pyplot as plt"
   ]
  },
  {
   "cell_type": "code",
   "execution_count": 2,
   "metadata": {
    "colab": {
     "base_uri": "https://localhost:8080/"
    },
    "id": "3NfLz97JM1oh",
    "outputId": "f9658590-9569-4860-b2c8-c026d75b430c"
   },
   "outputs": [
    {
     "name": "stdout",
     "output_type": "stream",
     "text": [
      "--2021-11-17 21:50:15--  https://raw.githubusercontent.com/Yquetzal/Teaching_notebooks/main/Networks/HALfunctions.py\n",
      "Resolving raw.githubusercontent.com (raw.githubusercontent.com)... 185.199.110.133, 185.199.111.133, 185.199.108.133, ...\n",
      "Connecting to raw.githubusercontent.com (raw.githubusercontent.com)|185.199.110.133|:443... connected.\n",
      "HTTP request sent, awaiting response... 200 OK\n",
      "Length: 8515 (8,3K) [text/plain]\n",
      "Saving to: ‘HALfunctions.py.14’\n",
      "\n",
      "HALfunctions.py.14  100%[===================>]   8,32K  --.-KB/s    in 0,001s  \n",
      "\n",
      "2021-11-17 21:50:15 (12,9 MB/s) - ‘HALfunctions.py.14’ saved [8515/8515]\n",
      "\n"
     ]
    }
   ],
   "source": [
    "#Importing useful function. For details, check the associated course\n",
    "\n",
    "!wget https://raw.githubusercontent.com/Yquetzal/Teaching_notebooks/main/Networks/HALfunctions.py\n",
    "from HALfunctions import get_all_elements, co_occurence_network,co_occurence_network_laboratory,column_most_common,bi_partite_network,bi_partite_network_generic"
   ]
  },
  {
   "cell_type": "markdown",
   "metadata": {
    "id": "oDt5yXKnUjsJ"
   },
   "source": [
    "# Faire la requête"
   ]
  },
  {
   "cell_type": "code",
   "execution_count": 3,
   "metadata": {
    "colab": {
     "base_uri": "https://localhost:8080/",
     "height": 1000
    },
    "id": "xtkyG_wOM4jW",
    "outputId": "a7497391-ce51-4323-a187-2dbc44662e48"
   },
   "outputs": [
    {
     "name": "stdout",
     "output_type": "stream",
     "text": [
      "Nombre d'éléments au total :  3\n",
      "Éléments récupérés :  3\n"
     ]
    },
    {
     "data": {
      "text/html": [
       "<div>\n",
       "<style scoped>\n",
       "    .dataframe tbody tr th:only-of-type {\n",
       "        vertical-align: middle;\n",
       "    }\n",
       "\n",
       "    .dataframe tbody tr th {\n",
       "        vertical-align: top;\n",
       "    }\n",
       "\n",
       "    .dataframe thead th {\n",
       "        text-align: right;\n",
       "    }\n",
       "</style>\n",
       "<table border=\"1\" class=\"dataframe\">\n",
       "  <thead>\n",
       "    <tr style=\"text-align: right;\">\n",
       "      <th></th>\n",
       "      <th>title_s</th>\n",
       "      <th>authFullName_s</th>\n",
       "      <th>structAcronym_s</th>\n",
       "      <th>structCountry_s</th>\n",
       "      <th>structAddress_s</th>\n",
       "      <th>structType_s</th>\n",
       "      <th>structName_s</th>\n",
       "      <th>level1_domain_s</th>\n",
       "      <th>keyword_s</th>\n",
       "    </tr>\n",
       "  </thead>\n",
       "  <tbody>\n",
       "    <tr>\n",
       "      <th>0</th>\n",
       "      <td>Standing on a Double-Seesaw Device is an Easy Way to Modify the Coordination Between the Two Fee...</td>\n",
       "      <td>Patrice Rougier,Thibaud Coquard,Thierry Paillard,Clément Ankaoua,Jeanne Dury,Corentin Barthod,Do...</td>\n",
       "      <td>LIBM,UCBL,UJM,USMB [Université de Savoie] [Université de Chambéry],MEPS,UPPA,MPR,CHU</td>\n",
       "      <td>fr,fr,fr,fr,fr,fr,fr,fr,fr</td>\n",
       "      <td>CAMPUS SANTE INNOVATIONS - Bâtiment IRMIS - 10 rue de la Marandière 42270 Saint Priest en Jarez ...</td>\n",
       "      <td>laboratory,institution,regroupinstitution,institution,institution,laboratory,institution,laborat...</td>\n",
       "      <td>Laboratoire Interuniversitaire de Biologie de la Motricité,Université Claude Bernard Lyon 1,Univ...</td>\n",
       "      <td>sdv.neu</td>\n",
       "      <td>NaN</td>\n",
       "    </tr>\n",
       "    <tr>\n",
       "      <th>1</th>\n",
       "      <td>Easy Synthesis of Complex Biomolecular Assemblies: Wheat Germ Cell-Free Protein Expression in St...</td>\n",
       "      <td>Marie-Laure Fogeron,Lauriane Lecoq,Laura Cole,Matthias Harbers,Anja Böckmann</td>\n",
       "      <td>MMSB,UCBL,CNRS,RIKEN IMS,RIKEN</td>\n",
       "      <td>fr,fr,fr,fr,jp,jp</td>\n",
       "      <td>IBCP CNRS/Université de Lyon7 Passage du vercors69367 LYON Cedex 07,43\\, boulevard du 11 novembr...</td>\n",
       "      <td>laboratory,institution,regroupinstitution,institution,institution,regroupinstitution</td>\n",
       "      <td>Microbiologie moléculaire et biochimie structurale | Molecular Microbiology and Structural Bioch...</td>\n",
       "      <td>chim.anal,sdv.bbm,sdv.bbm</td>\n",
       "      <td>Cell-free protein expression,Wheat germ,Structural biology,Labeling,NMR</td>\n",
       "    </tr>\n",
       "    <tr>\n",
       "      <th>2</th>\n",
       "      <td>Codabench: Flexible\\, Easy-to-Use and Reproducible Benchmarking for Everyone</td>\n",
       "      <td>Zhen Xu,Huan Zhao,Wei-Wei Tu,Magali Richard,Sergio Escalera,Isabelle Guyon</td>\n",
       "      <td>TIMC,VAS,CNRS,UGA,Grenoble INP,UGA,UB,LISN,CNRS</td>\n",
       "      <td>cn,us,fr,fr,fr,fr,fr,fr,es,fr,fr,fr,fr</td>\n",
       "      <td>Beijing\\, China,Domaine de la Merci\\, 38706 La Tronche\\, France,Université de Lyon\\, VetAgro Sup...</td>\n",
       "      <td>institution,institution,laboratory,institution,institution,regroupinstitution,institution,regrou...</td>\n",
       "      <td>4Paradigm,Chalearn,Translational Innovation in Medicine and Complexity | Recherche Translationne...</td>\n",
       "      <td>info.info-lg</td>\n",
       "      <td>NaN</td>\n",
       "    </tr>\n",
       "  </tbody>\n",
       "</table>\n",
       "</div>"
      ],
      "text/plain": [
       "                                                                                               title_s  \\\n",
       "0  Standing on a Double-Seesaw Device is an Easy Way to Modify the Coordination Between the Two Fee...   \n",
       "1  Easy Synthesis of Complex Biomolecular Assemblies: Wheat Germ Cell-Free Protein Expression in St...   \n",
       "2                         Codabench: Flexible\\, Easy-to-Use and Reproducible Benchmarking for Everyone   \n",
       "\n",
       "                                                                                        authFullName_s  \\\n",
       "0  Patrice Rougier,Thibaud Coquard,Thierry Paillard,Clément Ankaoua,Jeanne Dury,Corentin Barthod,Do...   \n",
       "1                         Marie-Laure Fogeron,Lauriane Lecoq,Laura Cole,Matthias Harbers,Anja Böckmann   \n",
       "2                           Zhen Xu,Huan Zhao,Wei-Wei Tu,Magali Richard,Sergio Escalera,Isabelle Guyon   \n",
       "\n",
       "                                                                        structAcronym_s  \\\n",
       "0  LIBM,UCBL,UJM,USMB [Université de Savoie] [Université de Chambéry],MEPS,UPPA,MPR,CHU   \n",
       "1                                                        MMSB,UCBL,CNRS,RIKEN IMS,RIKEN   \n",
       "2                                       TIMC,VAS,CNRS,UGA,Grenoble INP,UGA,UB,LISN,CNRS   \n",
       "\n",
       "                          structCountry_s  \\\n",
       "0              fr,fr,fr,fr,fr,fr,fr,fr,fr   \n",
       "1                       fr,fr,fr,fr,jp,jp   \n",
       "2  cn,us,fr,fr,fr,fr,fr,fr,es,fr,fr,fr,fr   \n",
       "\n",
       "                                                                                       structAddress_s  \\\n",
       "0  CAMPUS SANTE INNOVATIONS - Bâtiment IRMIS - 10 rue de la Marandière 42270 Saint Priest en Jarez ...   \n",
       "1  IBCP CNRS/Université de Lyon7 Passage du vercors69367 LYON Cedex 07,43\\, boulevard du 11 novembr...   \n",
       "2  Beijing\\, China,Domaine de la Merci\\, 38706 La Tronche\\, France,Université de Lyon\\, VetAgro Sup...   \n",
       "\n",
       "                                                                                          structType_s  \\\n",
       "0  laboratory,institution,regroupinstitution,institution,institution,laboratory,institution,laborat...   \n",
       "1                 laboratory,institution,regroupinstitution,institution,institution,regroupinstitution   \n",
       "2  institution,institution,laboratory,institution,institution,regroupinstitution,institution,regrou...   \n",
       "\n",
       "                                                                                          structName_s  \\\n",
       "0  Laboratoire Interuniversitaire de Biologie de la Motricité,Université Claude Bernard Lyon 1,Univ...   \n",
       "1  Microbiologie moléculaire et biochimie structurale | Molecular Microbiology and Structural Bioch...   \n",
       "2  4Paradigm,Chalearn,Translational Innovation in Medicine and Complexity | Recherche Translationne...   \n",
       "\n",
       "             level1_domain_s  \\\n",
       "0                    sdv.neu   \n",
       "1  chim.anal,sdv.bbm,sdv.bbm   \n",
       "2               info.info-lg   \n",
       "\n",
       "                                                                 keyword_s  \n",
       "0                                                                      NaN  \n",
       "1  Cell-free protein expression,Wheat germ,Structural biology,Labeling,NMR  \n",
       "2                                                                      NaN  "
      ]
     },
     "execution_count": 3,
     "metadata": {},
     "output_type": "execute_result"
    }
   ],
   "source": [
    "# Here, detail the request. This exmaple: articles whose abstract contains \"easy\", \n",
    "# published between 2020 et 2022, at l'université de Lyon.\n",
    "\n",
    "domain=\"UNIV-LYON/\"\n",
    "words=\"title_t:(easy)\"\n",
    "dates=\"[2020 TO 2022]\"\n",
    "columns=\"title_s,authFullName_s,structAcronym_s,structCountry_s,structAddress_s,structType_s,structName_s,level1_domain_s,keyword_s\"\n",
    "\n",
    "request = \"http://api.archives-ouvertes.fr/search/\"+domain+\"?q=\"+words+\"&fq=publicationDate_s:\"+dates+\"&fl=\"+columns\n",
    "simple_example = get_all_elements(request)\n",
    "simple_example"
   ]
  },
  {
   "cell_type": "markdown",
   "metadata": {
    "id": "n1fHmSwEUqxs"
   },
   "source": [
    "# Create co-occurence networks of elements in articles"
   ]
  },
  {
   "cell_type": "code",
   "execution_count": 4,
   "metadata": {
    "id": "gXu8Ub2-NPo8"
   },
   "outputs": [
    {
     "ename": "NameError",
     "evalue": "name 'exemple_facile' is not defined",
     "output_type": "error",
     "traceback": [
      "\u001b[0;31m---------------------------------------------------------------------------\u001b[0m",
      "\u001b[0;31mNameError\u001b[0m                                 Traceback (most recent call last)",
      "\u001b[0;32m/var/folders/j8/987m6x9x2dd5j9rz_30l06840000gn/T/ipykernel_74037/1998748994.py\u001b[0m in \u001b[0;36m<module>\u001b[0;34m\u001b[0m\n\u001b[1;32m      1\u001b[0m \u001b[0;31m# Network with nodes = authors, link if appear in same article\u001b[0m\u001b[0;34m\u001b[0m\u001b[0;34m\u001b[0m\u001b[0m\n\u001b[0;32m----> 2\u001b[0;31m \u001b[0mg1\u001b[0m \u001b[0;34m=\u001b[0m \u001b[0mco_occurence_network\u001b[0m\u001b[0;34m(\u001b[0m\u001b[0mexemple_facile\u001b[0m\u001b[0;34m,\u001b[0m\u001b[0;34m\"authFullName_s\"\u001b[0m\u001b[0;34m,\u001b[0m\u001b[0mthreshold\u001b[0m\u001b[0;34m=\u001b[0m\u001b[0;36m0\u001b[0m\u001b[0;34m)\u001b[0m\u001b[0;34m\u001b[0m\u001b[0;34m\u001b[0m\u001b[0m\n\u001b[0m",
      "\u001b[0;31mNameError\u001b[0m: name 'exemple_facile' is not defined"
     ]
    }
   ],
   "source": [
    "# Network with nodes = authors, link if appear in same article\n",
    "g1 = co_occurence_network(simple_example,\"authFullName_s\",threshold=0)"
   ]
  },
  {
   "cell_type": "code",
   "execution_count": null,
   "metadata": {
    "colab": {
     "base_uri": "https://localhost:8080/",
     "height": 248
    },
    "id": "PxNj8oAQR-0y",
    "outputId": "cd0d9743-a06a-42ff-9eab-6c34dc31cae0"
   },
   "outputs": [],
   "source": [
    "nx.draw_networkx(g1)"
   ]
  },
  {
   "cell_type": "code",
   "execution_count": null,
   "metadata": {
    "id": "hzCJmw7kSBtQ"
   },
   "outputs": [],
   "source": [
    "# Same, with keywords\n",
    "g2 = co_occurence_network(exemple_facile,\"keyword_s\",threshold=0)"
   ]
  },
  {
   "cell_type": "code",
   "execution_count": null,
   "metadata": {
    "colab": {
     "base_uri": "https://localhost:8080/",
     "height": 248
    },
    "id": "gLPOfdvVSued",
    "outputId": "d23bdf2c-058e-4677-ad7f-f345ca37d916"
   },
   "outputs": [],
   "source": [
    "nx.draw_networkx(g2)"
   ]
  },
  {
   "cell_type": "code",
   "execution_count": null,
   "metadata": {
    "id": "Co9BxEGdT2sh"
   },
   "outputs": [],
   "source": [
    "# Same, with scientific domains\n",
    "g3 = co_occurence_network(exemple_facile,\"level1_domain_s\",threshold=0)"
   ]
  },
  {
   "cell_type": "code",
   "execution_count": null,
   "metadata": {
    "colab": {
     "base_uri": "https://localhost:8080/",
     "height": 248
    },
    "id": "WNiRKW8pUBfe",
    "outputId": "17f4f0ea-3a8e-40ef-f784-f24283b4ec03"
   },
   "outputs": [],
   "source": [
    "nx.draw_networkx(g3)"
   ]
  },
  {
   "cell_type": "markdown",
   "metadata": {
    "id": "9_9OFVhTVVh3"
   },
   "source": [
    "# Bi-partite networks\n",
    "Bi-partite networks have 2 types of nodes. A typical example is with articles as one type of nodes, and some element of the article as another type of nodes\n"
   ]
  },
  {
   "cell_type": "code",
   "execution_count": null,
   "metadata": {
    "id": "25IGGuNvV3L_"
   },
   "outputs": [],
   "source": [
    "# Bipartite network Article-authors\n",
    "g5 = bi_partite_network_generic(exemple_facile,\"title_s\",\"authFullName_s\")"
   ]
  },
  {
   "cell_type": "code",
   "execution_count": null,
   "metadata": {
    "colab": {
     "base_uri": "https://localhost:8080/",
     "height": 248
    },
    "id": "KKUQJaF5WG-3",
    "outputId": "a99efe23-aa69-4059-cb70-77ee9ac89363"
   },
   "outputs": [],
   "source": [
    "nx.draw_networkx(g5)"
   ]
  },
  {
   "cell_type": "code",
   "execution_count": null,
   "metadata": {
    "id": "HCUtL4ovWIOE"
   },
   "outputs": [],
   "source": [
    "# Bipartite network Article-scientific domain\n",
    "g5 = bi_partite_network_generic(exemple_facile,\"title_s\",\"level1_domain_s\")"
   ]
  },
  {
   "cell_type": "code",
   "execution_count": null,
   "metadata": {
    "colab": {
     "base_uri": "https://localhost:8080/",
     "height": 248
    },
    "id": "kkS-9fDaWk99",
    "outputId": "0cdb989e-e09c-4689-9304-25c8ac5390c9"
   },
   "outputs": [],
   "source": [
    "nx.draw_networkx(g5)"
   ]
  },
  {
   "cell_type": "code",
   "execution_count": null,
   "metadata": {},
   "outputs": [],
   "source": [
    "#domain - keywords\n",
    "g6 = bi_partite_network_generic(exemple_facile,\"level1_domain_s\",\"keyword_s\",threshold_max_in_col=10)\n"
   ]
  },
  {
   "cell_type": "code",
   "execution_count": null,
   "metadata": {
    "id": "FprRTHNaWl5J"
   },
   "outputs": [],
   "source": [
    "nx.draw_networkx(g6)"
   ]
  },
  {
   "cell_type": "code",
   "execution_count": null,
   "metadata": {},
   "outputs": [],
   "source": []
  },
  {
   "cell_type": "code",
   "execution_count": null,
   "metadata": {},
   "outputs": [],
   "source": [
    "# to remove edges appearing less than k times\n",
    "k=2\n",
    "to_remove = [(a,b) for a, b, attrs in g6.edges(data=True) if attrs[\"occurrences\"] <k]\n",
    "g6.remove_edges_from(to_remove)\n",
    "g6.remove_nodes_from(list(nx.isolates(g6)))"
   ]
  },
  {
   "cell_type": "code",
   "execution_count": null,
   "metadata": {},
   "outputs": [],
   "source": [
    "nx.draw_networkx(g6)"
   ]
  },
  {
   "cell_type": "markdown",
   "metadata": {
    "id": "vL-kyx9fWtWC"
   },
   "source": [
    "# Exporting file to open it in Gephi\n",
    "With this command, you save the file in the current directory (same as this notebook). If you are in Google Colab, it will appear on the panel on your left (might need to refresh it)."
   ]
  },
  {
   "cell_type": "code",
   "execution_count": null,
   "metadata": {
    "id": "M9w5KCEpW80k"
   },
   "outputs": [],
   "source": [
    "nx.write_graphml(g1,\"exemple1.graphml\")\n",
    "nx.write_graphml(g6,\"exemple6.graphml\")"
   ]
  },
  {
   "cell_type": "code",
   "execution_count": null,
   "metadata": {
    "id": "FT3x142lXM5j"
   },
   "outputs": [],
   "source": []
  },
  {
   "cell_type": "code",
   "execution_count": null,
   "metadata": {},
   "outputs": [],
   "source": []
  }
 ],
 "metadata": {
  "colab": {
   "collapsed_sections": [],
   "name": "Sandbox.ipynb",
   "provenance": []
  },
  "kernelspec": {
   "display_name": "Python 3 (ipykernel)",
   "language": "python",
   "name": "python3"
  },
  "language_info": {
   "codemirror_mode": {
    "name": "ipython",
    "version": 3
   },
   "file_extension": ".py",
   "mimetype": "text/x-python",
   "name": "python",
   "nbconvert_exporter": "python",
   "pygments_lexer": "ipython3",
   "version": "3.9.7"
  }
 },
 "nbformat": 4,
 "nbformat_minor": 1
}
