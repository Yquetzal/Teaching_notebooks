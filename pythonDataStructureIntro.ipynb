{
  "nbformat": 4,
  "nbformat_minor": 0,
  "metadata": {
    "colab": {
      "name": "pythonDataStructureIntro.ipynb",
      "provenance": [],
      "collapsed_sections": [],
      "authorship_tag": "ABX9TyNozk+xo6pJoLSDiPzhp1/u",
      "include_colab_link": true
    },
    "kernelspec": {
      "name": "python3",
      "display_name": "Python 3"
    }
  },
  "cells": [
    {
      "cell_type": "markdown",
      "metadata": {
        "id": "view-in-github",
        "colab_type": "text"
      },
      "source": [
        "<a href=\"https://colab.research.google.com/github/Yquetzal/teaching_notebooks/blob/main/pythonDataStructureIntro.ipynb\" target=\"_parent\"><img src=\"https://colab.research.google.com/assets/colab-badge.svg\" alt=\"Open In Colab\"/></a>"
      ]
    },
    {
      "cell_type": "markdown",
      "metadata": {
        "id": "HDOjw4dotYKD"
      },
      "source": [
        "# Python data structure introducution\n",
        "Data science and data analysis requires to manipulate data. \n",
        "\n",
        "This notebook is designed for students that are beginner in python, and/or with little experience of data manipulation and/or of python data structure manipulation.\n",
        "\n",
        "It introduces some useful methods and functions to manipulate:\n",
        "*   Lists\n",
        "*   Sets\n",
        "* Dictionaries\n",
        "\n",
        "To go further, there are many resources on the web, for instance: \n",
        "https://docs.python.org/3/tutorial/datastructures.html\n",
        "\n",
        "https://dev.to/global_codess/time-complexities-of-python-data-structures-3bja\n",
        "\n"
      ]
    },
    {
      "cell_type": "markdown",
      "metadata": {
        "id": "Vv4QjvIIzds_"
      },
      "source": [
        "# List\n",
        "A list contains elements of any types. Elements have a specific order. A list is identified by square brackets \"[\" \"]\""
      ]
    },
    {
      "cell_type": "code",
      "metadata": {
        "colab": {
          "base_uri": "https://localhost:8080/"
        },
        "id": "qOMzrLIzsovL",
        "outputId": "1ae01d7b-ba92-4066-aedc-3ad7d8d41490"
      },
      "source": [
        "l = [6,9,5]# create a list with 3 numbers\n",
        "l2 = [6,\"hello\",l]#create a list with different elements: numbers, strings, lists\n",
        "print(l2)\n",
        "print(type(l2))"
      ],
      "execution_count": null,
      "outputs": [
        {
          "output_type": "stream",
          "text": [
            "[6, 'hello', [6, 9, 5]]\n",
            "<class 'list'>\n"
          ],
          "name": "stdout"
        }
      ]
    },
    {
      "cell_type": "code",
      "metadata": {
        "colab": {
          "base_uri": "https://localhost:8080/"
        },
        "id": "KPFO-7mXsxhd",
        "outputId": "93c070c0-3933-459d-c28d-2a57831ae0d7"
      },
      "source": [
        "r = range(5,100,7) #range generate sequences of numbers, here it starts at 5, ends at 100, and is incremented 7 by 7.\n",
        "print(r,\" - \",type(r)) # r is not a list but a range object\n",
        "lr= list(r) #we can transform it into a list using the \"list\" command\n",
        "print(type(lr))\n",
        "print(lr)"
      ],
      "execution_count": null,
      "outputs": [
        {
          "output_type": "stream",
          "text": [
            "range(5, 100, 7)  -  <class 'range'>\n",
            "<class 'list'>\n",
            "[5, 12, 19, 26, 33, 40, 47, 54, 61, 68, 75, 82, 89, 96]\n"
          ],
          "name": "stdout"
        }
      ]
    },
    {
      "cell_type": "code",
      "metadata": {
        "colab": {
          "base_uri": "https://localhost:8080/"
        },
        "id": "iWxXmNwFs8Q0",
        "outputId": "d73f73f6-cd48-4f9a-a953-6198c55cc5b1"
      },
      "source": [
        "print(lr[0])#get the first element of a list\n",
        "print(lr[-1])#get the last element of a list (you can also use -2, -3, etc.)\n",
        "print(lr[3:6]) #get a sublist composed of elements from index 3 to 6 (not included)\n",
        "print(lr[:3]) # get sublist from the start to index 3 not included\n",
        "print(lr[3:]) # get sublist from the index 3 till the end"
      ],
      "execution_count": null,
      "outputs": [
        {
          "output_type": "stream",
          "text": [
            "5\n",
            "96\n",
            "[26, 33, 40]\n",
            "[5, 12, 19]\n",
            "[26, 33, 40, 47, 54, 61, 68, 75, 82, 89, 96]\n"
          ],
          "name": "stdout"
        }
      ]
    },
    {
      "cell_type": "code",
      "metadata": {
        "colab": {
          "base_uri": "https://localhost:8080/"
        },
        "id": "20A9z_s4wOLw",
        "outputId": "9dc584fe-1493-4d23-89a6-3df442bfdfae"
      },
      "source": [
        "l.append(\"last\")# add an element at the end\n",
        "l[1]=\"replace\" #replace element at position 1\n",
        "print(l)\n",
        "l.index(5) #get the position of an element of a list"
      ],
      "execution_count": null,
      "outputs": [
        {
          "output_type": "stream",
          "text": [
            "[6, 'replace', 5, 'last']\n"
          ],
          "name": "stdout"
        },
        {
          "output_type": "execute_result",
          "data": {
            "text/plain": [
              "2"
            ]
          },
          "metadata": {
            "tags": []
          },
          "execution_count": 6
        }
      ]
    },
    {
      "cell_type": "code",
      "metadata": {
        "colab": {
          "base_uri": "https://localhost:8080/"
        },
        "id": "8Xm8LcoewqlO",
        "outputId": "c751d61a-3a2b-4515-8f27-07b07be77124"
      },
      "source": [
        "l1=[\"l1\"]*5 #create a list of the element \"l1\" repeated 5 times\n",
        "l2=l1+l #concatenate the list l1 and the list l defined previously\n",
        "print(l2)"
      ],
      "execution_count": null,
      "outputs": [
        {
          "output_type": "stream",
          "text": [
            "['l1', 'l1', 'l1', 'l1', 'l1', 6, 'replace', 5, 'last']\n"
          ],
          "name": "stdout"
        }
      ]
    },
    {
      "cell_type": "markdown",
      "metadata": {
        "id": "n_uKMyWNxb1g"
      },
      "source": [
        "#Sets\n",
        "Sets are also collections of elements, but elements are not ordered, and cannot be repeated(as in the mathematical notion of a set). \n",
        "In python, they are identified by brackets, \"{\" \"}\""
      ]
    },
    {
      "cell_type": "code",
      "metadata": {
        "colab": {
          "base_uri": "https://localhost:8080/"
        },
        "id": "a-mCV6i9yq4i",
        "outputId": "52ab93b1-b7a0-4a6e-a50a-91ac5678375b"
      },
      "source": [
        "l=[3,2,2,1]\n",
        "s={3,2,2,1}\n",
        "print(l,s)"
      ],
      "execution_count": null,
      "outputs": [
        {
          "output_type": "stream",
          "text": [
            "[3, 2, 2, 1] {1, 2, 3}\n"
          ],
          "name": "stdout"
        }
      ]
    },
    {
      "cell_type": "markdown",
      "metadata": {
        "id": "5JGkJekH2iSV"
      },
      "source": [
        "Sets are convenient to find elements in common or to merge groups of elements, using **set operations**: union ($A\\cup B$), intersection($A\\cap B$), etc."
      ]
    },
    {
      "cell_type": "code",
      "metadata": {
        "colab": {
          "base_uri": "https://localhost:8080/"
        },
        "id": "PJV-kDOiy-bw",
        "outputId": "cf518ac5-9ed7-4bfb-a67a-048685d06c52"
      },
      "source": [
        "s={3,2,1};s2={1,4,5}\n",
        "print(s&s2) #intersection of 2 sets\n",
        "print(s|s2) #union of 2 sets\n",
        "print(s-s2) #difference\n",
        "print(s^s2) #symmetric difference\n"
      ],
      "execution_count": null,
      "outputs": [
        {
          "output_type": "stream",
          "text": [
            "{1}\n",
            "{1, 2, 3, 4, 5}\n",
            "{2, 3}\n",
            "{2, 3, 4, 5}\n"
          ],
          "name": "stdout"
        }
      ]
    },
    {
      "cell_type": "code",
      "metadata": {
        "id": "VpS3COoMzZDz"
      },
      "source": [
        ""
      ],
      "execution_count": null,
      "outputs": []
    },
    {
      "cell_type": "markdown",
      "metadata": {
        "id": "_8WUn94Y0a29"
      },
      "source": [
        "# Data structure complexity.\n",
        "In computer science, the complexity of an operation is the time it requires to be performed, usually in the *worst case* scenario.\n",
        "When handling large dataset, the complexity of operations is important. Sets and lists have different complexity\n",
        "\n",
        "\n",
        "*   An important difference is that finding if an element is present in a list is **very slow**, while finding if an element is present in a set is **fast**. That is why sets are convenient for set operations, that compare presence of elements accross sets\n",
        "*   Additionnaly, in a list, retrieving the element at a given index is **fast**, adding/removing an element at the end is **fast**, adding/removing an element in the beginning is **slow**\n",
        "* tip: Adding $n$ times 1 element to a set is much slower than adding 1 time $n$ elements\n",
        "\n",
        "For more details: https://wiki.python.org/moin/TimeComplexity\n",
        "\n"
      ]
    },
    {
      "cell_type": "code",
      "metadata": {
        "colab": {
          "base_uri": "https://localhost:8080/"
        },
        "id": "6JN2UFzW2uOT",
        "outputId": "ecffff36-9b3a-4787-9310-f4ab70e3ff91"
      },
      "source": [
        "lcopy=list(s2)#a set can be transformed into a list (elements end up in a random order)\n",
        "print(lcopy)\n",
        "llcopy=set(lcopy) #and a list into a set (losing order and repeated elements)\n",
        "print(llcopy)\n",
        "print(\"length: \",len(lcopy),len(llcopy))#with len, we can know the length of a list or set\n"
      ],
      "execution_count": null,
      "outputs": [
        {
          "output_type": "stream",
          "text": [
            "[1, 4, 5]\n",
            "{1, 4, 5}\n",
            "length:  3 3\n"
          ],
          "name": "stdout"
        }
      ]
    },
    {
      "cell_type": "markdown",
      "metadata": {
        "id": "SeaMOkhpdQ8a"
      },
      "source": [
        "# List comprehension\n",
        "List comprehension is a convenient way to generate lists based on other lists, or by repeating the same process mutliple times. For instance,\n",
        "`[f(x) for x in range(3)]` means that we want, for each element of range(3), called locally x, to apply to it the function `f`, and to return the result in the form of a list, because we framed the expression with `[]`. If we use `{}`instead, the result will be returned as a set."
      ]
    },
    {
      "cell_type": "code",
      "metadata": {
        "colab": {
          "base_uri": "https://localhost:8080/"
        },
        "id": "7tWxfogi3AQd",
        "outputId": "fc329c99-5cac-47c2-c794-e8c30a7cc6ee"
      },
      "source": [
        "l = list(range(10))\n",
        "print(l)\n",
        "\n",
        "#Example operation without list comprehension: keep only pair elements and take their squared value\n",
        "l2=[]\n",
        "for i in range(len(l)):\n",
        "  if l[i]%2==0:\n",
        "    l2.append(l[i]*l[i])\n",
        "print(\"l2:\",l2)\n",
        "\n",
        "#Same operation written using list comprehension. It is much shorter and less error prone\n",
        "l3=[x*x for x in l if x%2==0]\n",
        "print(\"l3:\",l3)\n",
        "\n",
        "#Another example of usage\n",
        "l4=[\"element\" for i in range(10)]\n",
        "print(\"l4:\",l4)\n",
        "\n",
        "#Can be used to create sets too with {} instead of []\n",
        "print({x/2 for x in l3})"
      ],
      "execution_count": null,
      "outputs": [
        {
          "output_type": "stream",
          "text": [
            "[0, 1, 2, 3, 4, 5, 6, 7, 8, 9]\n",
            "l2: [0, 4, 16, 36, 64]\n",
            "l3: [0, 4, 16, 36, 64]\n",
            "l4: ['element', 'element', 'element', 'element', 'element', 'element', 'element', 'element', 'element', 'element']\n",
            "{0.0, 32.0, 2.0, 8.0, 18.0}\n"
          ],
          "name": "stdout"
        }
      ]
    },
    {
      "cell_type": "code",
      "metadata": {
        "id": "GtLz5qVleIS5"
      },
      "source": [
        ""
      ],
      "execution_count": null,
      "outputs": []
    },
    {
      "cell_type": "markdown",
      "metadata": {
        "id": "VViQ5BDihKBq"
      },
      "source": [
        "# Dictionaries\n",
        "Dictionaries are very convenient to manipulate complex data.\n",
        "Dictionaries are structures associating **keys** to **values**. When you insert an element in a dictionary, you give the key and the value. Later, if you want to retrieve the values, you juste have to provide the key.\n",
        "\n",
        "Note that dictionaries use \"{}\", as sets, but they cannot be confused because dictionaries elements are composed of a key and a value, `(key:value)`\n"
      ]
    },
    {
      "cell_type": "code",
      "metadata": {
        "colab": {
          "base_uri": "https://localhost:8080/"
        },
        "id": "ulHXOPCVe-kr",
        "outputId": "fe9a860e-8031-4169-a97d-591bdc259e7d"
      },
      "source": [
        "d=dict()\n",
        "d[\"akey\"]=\"aValue\" #inserting a value identified by a key\n",
        "d[10]=\"anotherValue\"\n",
        "d[\"user1\"]=[9,10,5] #values can be anything: list, string, other dictionary...\n",
        "print(d[\"akey\"],\" - \",d[10]) #retrieving elements associated with keys\n",
        "print(d) #print all keys and values"
      ],
      "execution_count": null,
      "outputs": [
        {
          "output_type": "stream",
          "text": [
            "aValue  -  anotherValue\n",
            "{'akey': 'aValue', 10: 'anotherValue', 'user1': [9, 10, 5]}\n"
          ],
          "name": "stdout"
        }
      ]
    },
    {
      "cell_type": "code",
      "metadata": {
        "colab": {
          "base_uri": "https://localhost:8080/"
        },
        "id": "twX__pIa7sDn",
        "outputId": "f63872c6-5ea0-46b6-ea13-3154ca47bb7a"
      },
      "source": [
        "d={\"a\":7,\"b\":6,\"c\":10} #example of initialization of a dictionary. Note that character : is used to associate a key to a value\n",
        "print(\"is b in the dictionary? :\", \"b\" in d) #checking if a key is in a dictionary (fast)\n",
        "print(\"is e in the dictionary? : \",\"e\" in d) \n",
        "del d[\"a\"] #removing an element from a dictionary from its key\n",
        "print(d)"
      ],
      "execution_count": null,
      "outputs": [
        {
          "output_type": "stream",
          "text": [
            "is b in the dictionary? : True\n",
            "is e in the dictionary? :  False\n",
            "{'b': 6, 'c': 10}\n"
          ],
          "name": "stdout"
        }
      ]
    },
    {
      "cell_type": "markdown",
      "metadata": {
        "id": "eb_48PZP9xZM"
      },
      "source": [
        "### Dictionary comprehension\n",
        "Dictionaries too can be manipulated easily with comprehension syntax"
      ]
    },
    {
      "cell_type": "code",
      "metadata": {
        "colab": {
          "base_uri": "https://localhost:8080/"
        },
        "id": "AooRi6x69KGR",
        "outputId": "52d888d3-74d8-43ce-d08e-f12232b0f14f"
      },
      "source": [
        "d= {x:(x*x) for x in range(10)} #For each x in 0:10, use x as key and x squared as value\n",
        "print(d)\n",
        "\n",
        "l=[\"stone\", \"paper\", \"chisel\"]\n",
        "d={i:val for i,val in enumerate(l)} #enumerate takes a list and return pairs of values: the index in the list and the value itself.\n",
        "print(d)\n",
        "d2={val:key for key,val in d.items()} #function \"items\" of a dictionary return pairs of values, the key and the val\n",
        "print(d2)\n"
      ],
      "execution_count": null,
      "outputs": [
        {
          "output_type": "stream",
          "text": [
            "{0: 0, 1: 1, 2: 4, 3: 9, 4: 16, 5: 25, 6: 36, 7: 49, 8: 64, 9: 81}\n",
            "{0: 'stone', 1: 'paper', 2: 'chisel'}\n",
            "{'stone': 0, 'paper': 1, 'chisel': 2}\n"
          ],
          "name": "stdout"
        }
      ]
    },
    {
      "cell_type": "markdown",
      "metadata": {
        "id": "7WQ82R2VDG4J"
      },
      "source": [
        "# Unmutable structures\n",
        "lists, sets and dictionaries are mutable structures, i.e., you can modify them after you created them. Some other structures are unmutable. This is important in some cases, in particular, elements of sets and keys of dictionaries must by unmutable."
      ]
    },
    {
      "cell_type": "code",
      "metadata": {
        "colab": {
          "base_uri": "https://localhost:8080/"
        },
        "id": "BBIA8IYA-CuP",
        "outputId": "8d6440a3-d787-4d3b-fee3-1ac048f961f2"
      },
      "source": [
        "aTuple= (\"a\",\"b\",\"c\") #a tuple is like a list, but unmutable. it uses parenthesis instead of [].\n",
        "print(aTuple)\n",
        "print(aTuple[1]) #Elements can be accessed as with a list\n",
        "aFrozenSet=frozenset(aTuple) #a frozenset is like a set, but unmutable\n",
        "print(aFrozenSet)"
      ],
      "execution_count": null,
      "outputs": [
        {
          "output_type": "stream",
          "text": [
            "('a', 'b', 'c')\n",
            "b\n",
            "frozenset({'a', 'c', 'b'})\n"
          ],
          "name": "stdout"
        }
      ]
    },
    {
      "cell_type": "code",
      "metadata": {
        "colab": {
          "base_uri": "https://localhost:8080/",
          "height": 164
        },
        "id": "ZqVlIcPiD7Fo",
        "outputId": "23fa32c1-e00c-4565-9b5e-c4cb51ff1530"
      },
      "source": [
        "myDic={[\"a\",\"b\"]:\"value\"} #this does not work, because a list is mutable, thus it cannot be \"hashed\"."
      ],
      "execution_count": null,
      "outputs": [
        {
          "output_type": "error",
          "ename": "TypeError",
          "evalue": "ignored",
          "traceback": [
            "\u001b[0;31m---------------------------------------------------------------------------\u001b[0m",
            "\u001b[0;31mTypeError\u001b[0m                                 Traceback (most recent call last)",
            "\u001b[0;32m<ipython-input-25-02f80953e8f8>\u001b[0m in \u001b[0;36m<module>\u001b[0;34m()\u001b[0m\n\u001b[0;32m----> 1\u001b[0;31m \u001b[0mmyDic\u001b[0m\u001b[0;34m=\u001b[0m\u001b[0;34m{\u001b[0m\u001b[0;34m[\u001b[0m\u001b[0;34m\"a\"\u001b[0m\u001b[0;34m,\u001b[0m\u001b[0;34m\"b\"\u001b[0m\u001b[0;34m]\u001b[0m\u001b[0;34m:\u001b[0m\u001b[0;34m\"value\"\u001b[0m\u001b[0;34m}\u001b[0m \u001b[0;31m#this does not work, because a list is mutable, thus it cannot be \"hashed\".\u001b[0m\u001b[0;34m\u001b[0m\u001b[0;34m\u001b[0m\u001b[0m\n\u001b[0m",
            "\u001b[0;31mTypeError\u001b[0m: unhashable type: 'list'"
          ]
        }
      ]
    },
    {
      "cell_type": "code",
      "metadata": {
        "colab": {
          "base_uri": "https://localhost:8080/"
        },
        "id": "WrvcgukfEoZI",
        "outputId": "64c6d3df-89ab-4565-89d1-69ac521a0c83"
      },
      "source": [
        "myDic={(\"a\",\"b\"):\"value\"} #this works!\n",
        "print(myDic)\n",
        "myDic={frozenset([\"a\",\"b\"]):\"value\"} #this too. It can be convenient to manipulate undirected edges of a graph, for instance...\n",
        "print(myDic)"
      ],
      "execution_count": null,
      "outputs": [
        {
          "output_type": "stream",
          "text": [
            "{('a', 'b'): 'value'}\n",
            "{frozenset({'a', 'b'}): 'value'}\n"
          ],
          "name": "stdout"
        }
      ]
    },
    {
      "cell_type": "code",
      "metadata": {
        "id": "7aBcbcI9E3fq"
      },
      "source": [
        ""
      ],
      "execution_count": null,
      "outputs": []
    }
  ]
}