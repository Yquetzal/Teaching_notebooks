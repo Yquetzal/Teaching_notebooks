{
  "nbformat": 4,
  "nbformat_minor": 0,
  "metadata": {
    "colab": {
      "name": "Pandas hands-on.ipynb",
      "provenance": [],
      "collapsed_sections": [],
      "authorship_tag": "ABX9TyMJ6ClqnXw9KEi7gSOzrz2x",
      "include_colab_link": true
    },
    "kernelspec": {
      "name": "python3",
      "display_name": "Python 3"
    }
  },
  "cells": [
    {
      "cell_type": "markdown",
      "metadata": {
        "id": "view-in-github",
        "colab_type": "text"
      },
      "source": [
        "<a href=\"https://colab.research.google.com/github/Yquetzal/Teaching_notebooks/blob/main/Pandas_hands_on.ipynb\" target=\"_parent\"><img src=\"https://colab.research.google.com/assets/colab-badge.svg\" alt=\"Open In Colab\"/></a>"
      ]
    },
    {
      "cell_type": "markdown",
      "metadata": {
        "id": "Sun0bs5-qPt3"
      },
      "source": [
        "#Quick Introduction to pandas for data science\n",
        "\n",
        "Pandas Dataframe are an efficient and convenient way to manipulate tabular data.\n",
        "\n",
        "The main advantages are:\n",
        "\n",
        "*   Many existing libraries accept Pandas Dataframe as a standard input\n",
        "* If you are already familiar with R, it has many similarities\n",
        "*   It imports/exports `.csv` file easily\n",
        "* It is fast for many tasks (filtering, etc.)\n",
        "\n",
        "The main drawbacks are:\n",
        "\n",
        "* Pandas has many capabilities, but it takes time to learn how to use them, unlike usual programming which is (complex) combination of a few simple commands.\n",
        "* If you have never used R, but rather used to code in C, Java, etc., it might seem an unusual way to manipulate data at first.\n",
        "\n",
        "This notebook is only a short introduction, you can learn much more with: \n",
        "\n",
        "**Pandas tutorials**:  https://pandas.pydata.org/pandas-docs/stable/getting_started/index.html#getting-started\n",
        "\n",
        "**Pandas documentation:** https://pandas.pydata.org/pandas-docs/stable/user_guide/index.html#user-guide\n",
        "\n",
        "And as always in modern programming, with googling what you want to do :)\n"
      ]
    },
    {
      "cell_type": "code",
      "metadata": {
        "id": "97FrIcJQi8Qo"
      },
      "source": [
        "#start by importing the library\n",
        "import pandas as pd"
      ],
      "execution_count": null,
      "outputs": []
    },
    {
      "cell_type": "code",
      "metadata": {
        "id": "pmAKaUdMizl4"
      },
      "source": [
        "#import an example dataset.\n",
        "#pandas has built-in import and export in .csv\n",
        "data = pd.read_csv(\"http://cazabetremy.fr/Teaching/bitcoinClass/2021/trx_last_1M.csv\")\n",
        "data.columns = [\"cl_in\",\"cl_out\",\"timestamp\",\"value\",\"valueDoll\"] #Set column names"
      ],
      "execution_count": null,
      "outputs": []
    },
    {
      "cell_type": "markdown",
      "metadata": {
        "id": "v74FLCrgPTCD"
      },
      "source": [
        "## Dataset description\n",
        "This dataset is composed of a collection of 1 Million consecutive transactions in the Bitcoin Blockchain, occuring in September 7 and 8, 2016.\n",
        " \n",
        "\n",
        "*   **cl_out** is the identifier of the user who sent coins \n",
        "*   **cl_in** is the identifier of the user who received coins\n",
        "* **timestamp** is the time of the transaction in standard unix format.\n",
        "* **value** is the value of the transaction in bitcoins\n",
        "* **valueDoll** is the value of the transaction in Dollars\n",
        "\n"
      ]
    },
    {
      "cell_type": "markdown",
      "metadata": {
        "id": "xrhKAWI0QifQ"
      },
      "source": [
        "# Introducting the Pandas Dataframe"
      ]
    },
    {
      "cell_type": "code",
      "metadata": {
        "colab": {
          "base_uri": "https://localhost:8080/",
          "height": 419
        },
        "id": "pEeNFe41i3q8",
        "outputId": "bd915e7b-ff33-4705-9da0-6880bfc738ab"
      },
      "source": [
        "#a dataframe is naturally written as a table, with each observation in a row.\n",
        "data"
      ],
      "execution_count": null,
      "outputs": [
        {
          "output_type": "execute_result",
          "data": {
            "text/html": [
              "<div>\n",
              "<style scoped>\n",
              "    .dataframe tbody tr th:only-of-type {\n",
              "        vertical-align: middle;\n",
              "    }\n",
              "\n",
              "    .dataframe tbody tr th {\n",
              "        vertical-align: top;\n",
              "    }\n",
              "\n",
              "    .dataframe thead th {\n",
              "        text-align: right;\n",
              "    }\n",
              "</style>\n",
              "<table border=\"1\" class=\"dataframe\">\n",
              "  <thead>\n",
              "    <tr style=\"text-align: right;\">\n",
              "      <th></th>\n",
              "      <th>cl_in</th>\n",
              "      <th>cl_out</th>\n",
              "      <th>timestamp</th>\n",
              "      <th>value</th>\n",
              "      <th>valueDoll</th>\n",
              "    </tr>\n",
              "  </thead>\n",
              "  <tbody>\n",
              "    <tr>\n",
              "      <th>0</th>\n",
              "      <td>21231183</td>\n",
              "      <td>2633</td>\n",
              "      <td>1473221594</td>\n",
              "      <td>0.005014</td>\n",
              "      <td>3.082268</td>\n",
              "    </tr>\n",
              "    <tr>\n",
              "      <th>1</th>\n",
              "      <td>21231183</td>\n",
              "      <td>21231183</td>\n",
              "      <td>1473221594</td>\n",
              "      <td>0.040328</td>\n",
              "      <td>24.793546</td>\n",
              "    </tr>\n",
              "    <tr>\n",
              "      <th>2</th>\n",
              "      <td>4847880</td>\n",
              "      <td>53797835</td>\n",
              "      <td>1473221594</td>\n",
              "      <td>0.019596</td>\n",
              "      <td>12.047425</td>\n",
              "    </tr>\n",
              "    <tr>\n",
              "      <th>3</th>\n",
              "      <td>4847880</td>\n",
              "      <td>121760693</td>\n",
              "      <td>1473221594</td>\n",
              "      <td>0.118399</td>\n",
              "      <td>72.790337</td>\n",
              "    </tr>\n",
              "    <tr>\n",
              "      <th>4</th>\n",
              "      <td>139771794</td>\n",
              "      <td>BTC-e.com</td>\n",
              "      <td>1473221594</td>\n",
              "      <td>0.002444</td>\n",
              "      <td>1.502412</td>\n",
              "    </tr>\n",
              "    <tr>\n",
              "      <th>...</th>\n",
              "      <td>...</td>\n",
              "      <td>...</td>\n",
              "      <td>...</td>\n",
              "      <td>...</td>\n",
              "      <td>...</td>\n",
              "    </tr>\n",
              "    <tr>\n",
              "      <th>999994</th>\n",
              "      <td>79797142</td>\n",
              "      <td>123356081</td>\n",
              "      <td>1473368159</td>\n",
              "      <td>0.837321</td>\n",
              "      <td>523.283734</td>\n",
              "    </tr>\n",
              "    <tr>\n",
              "      <th>999995</th>\n",
              "      <td>scammer8135</td>\n",
              "      <td>96880646</td>\n",
              "      <td>1473368159</td>\n",
              "      <td>0.022898</td>\n",
              "      <td>14.310018</td>\n",
              "    </tr>\n",
              "    <tr>\n",
              "      <th>999996</th>\n",
              "      <td>scammer8135</td>\n",
              "      <td>93725777</td>\n",
              "      <td>1473368159</td>\n",
              "      <td>0.000041</td>\n",
              "      <td>0.025910</td>\n",
              "    </tr>\n",
              "    <tr>\n",
              "      <th>999997</th>\n",
              "      <td>53071260</td>\n",
              "      <td>55730177</td>\n",
              "      <td>1473368159</td>\n",
              "      <td>0.107372</td>\n",
              "      <td>67.102000</td>\n",
              "    </tr>\n",
              "    <tr>\n",
              "      <th>999998</th>\n",
              "      <td>53071260</td>\n",
              "      <td>53071260</td>\n",
              "      <td>1473368159</td>\n",
              "      <td>6.708407</td>\n",
              "      <td>4192.418961</td>\n",
              "    </tr>\n",
              "  </tbody>\n",
              "</table>\n",
              "<p>999999 rows × 5 columns</p>\n",
              "</div>"
            ],
            "text/plain": [
              "              cl_in     cl_out   timestamp     value    valueDoll\n",
              "0          21231183       2633  1473221594  0.005014     3.082268\n",
              "1          21231183   21231183  1473221594  0.040328    24.793546\n",
              "2           4847880   53797835  1473221594  0.019596    12.047425\n",
              "3           4847880  121760693  1473221594  0.118399    72.790337\n",
              "4         139771794  BTC-e.com  1473221594  0.002444     1.502412\n",
              "...             ...        ...         ...       ...          ...\n",
              "999994     79797142  123356081  1473368159  0.837321   523.283734\n",
              "999995  scammer8135   96880646  1473368159  0.022898    14.310018\n",
              "999996  scammer8135   93725777  1473368159  0.000041     0.025910\n",
              "999997     53071260   55730177  1473368159  0.107372    67.102000\n",
              "999998     53071260   53071260  1473368159  6.708407  4192.418961\n",
              "\n",
              "[999999 rows x 5 columns]"
            ]
          },
          "metadata": {
            "tags": []
          },
          "execution_count": 3
        }
      ]
    },
    {
      "cell_type": "code",
      "metadata": {
        "colab": {
          "base_uri": "https://localhost:8080/",
          "height": 204
        },
        "id": "ZpPr2dhgm8jM",
        "outputId": "0294fea9-97e8-44c2-d230-186b7e507b29"
      },
      "source": [
        "data.head() #head is useful to print only the first 5 elements."
      ],
      "execution_count": null,
      "outputs": [
        {
          "output_type": "execute_result",
          "data": {
            "text/html": [
              "<div>\n",
              "<style scoped>\n",
              "    .dataframe tbody tr th:only-of-type {\n",
              "        vertical-align: middle;\n",
              "    }\n",
              "\n",
              "    .dataframe tbody tr th {\n",
              "        vertical-align: top;\n",
              "    }\n",
              "\n",
              "    .dataframe thead th {\n",
              "        text-align: right;\n",
              "    }\n",
              "</style>\n",
              "<table border=\"1\" class=\"dataframe\">\n",
              "  <thead>\n",
              "    <tr style=\"text-align: right;\">\n",
              "      <th></th>\n",
              "      <th>cl_in</th>\n",
              "      <th>cl_out</th>\n",
              "      <th>timestamp</th>\n",
              "      <th>value</th>\n",
              "      <th>valueDoll</th>\n",
              "    </tr>\n",
              "  </thead>\n",
              "  <tbody>\n",
              "    <tr>\n",
              "      <th>0</th>\n",
              "      <td>21231183</td>\n",
              "      <td>2633</td>\n",
              "      <td>1473221594</td>\n",
              "      <td>0.005014</td>\n",
              "      <td>3.082268</td>\n",
              "    </tr>\n",
              "    <tr>\n",
              "      <th>1</th>\n",
              "      <td>21231183</td>\n",
              "      <td>21231183</td>\n",
              "      <td>1473221594</td>\n",
              "      <td>0.040328</td>\n",
              "      <td>24.793546</td>\n",
              "    </tr>\n",
              "    <tr>\n",
              "      <th>2</th>\n",
              "      <td>4847880</td>\n",
              "      <td>53797835</td>\n",
              "      <td>1473221594</td>\n",
              "      <td>0.019596</td>\n",
              "      <td>12.047425</td>\n",
              "    </tr>\n",
              "    <tr>\n",
              "      <th>3</th>\n",
              "      <td>4847880</td>\n",
              "      <td>121760693</td>\n",
              "      <td>1473221594</td>\n",
              "      <td>0.118399</td>\n",
              "      <td>72.790337</td>\n",
              "    </tr>\n",
              "    <tr>\n",
              "      <th>4</th>\n",
              "      <td>139771794</td>\n",
              "      <td>BTC-e.com</td>\n",
              "      <td>1473221594</td>\n",
              "      <td>0.002444</td>\n",
              "      <td>1.502412</td>\n",
              "    </tr>\n",
              "  </tbody>\n",
              "</table>\n",
              "</div>"
            ],
            "text/plain": [
              "       cl_in     cl_out   timestamp     value  valueDoll\n",
              "0   21231183       2633  1473221594  0.005014   3.082268\n",
              "1   21231183   21231183  1473221594  0.040328  24.793546\n",
              "2    4847880   53797835  1473221594  0.019596  12.047425\n",
              "3    4847880  121760693  1473221594  0.118399  72.790337\n",
              "4  139771794  BTC-e.com  1473221594  0.002444   1.502412"
            ]
          },
          "metadata": {
            "tags": []
          },
          "execution_count": 4
        }
      ]
    },
    {
      "cell_type": "code",
      "metadata": {
        "colab": {
          "base_uri": "https://localhost:8080/"
        },
        "id": "tJtnTT72lKcr",
        "outputId": "0e8f8eb4-b5d1-453b-d631-a0c6cede777b"
      },
      "source": [
        "print(len(data)) #len gives the number of observations\n",
        "print(data.columns) #columns gives columns names"
      ],
      "execution_count": null,
      "outputs": [
        {
          "output_type": "stream",
          "text": [
            "999999\n",
            "Index(['cl_in', 'cl_out', 'timestamp', 'value', 'valueDoll'], dtype='object')\n"
          ],
          "name": "stdout"
        }
      ]
    },
    {
      "cell_type": "code",
      "metadata": {
        "colab": {
          "base_uri": "https://localhost:8080/",
          "height": 297
        },
        "id": "TEeatDbflaZO",
        "outputId": "27fb2af2-8057-49af-b940-9d6474a156fc"
      },
      "source": [
        "data.describe() #Describe provides information on numerical columns"
      ],
      "execution_count": null,
      "outputs": [
        {
          "output_type": "execute_result",
          "data": {
            "text/html": [
              "<div>\n",
              "<style scoped>\n",
              "    .dataframe tbody tr th:only-of-type {\n",
              "        vertical-align: middle;\n",
              "    }\n",
              "\n",
              "    .dataframe tbody tr th {\n",
              "        vertical-align: top;\n",
              "    }\n",
              "\n",
              "    .dataframe thead th {\n",
              "        text-align: right;\n",
              "    }\n",
              "</style>\n",
              "<table border=\"1\" class=\"dataframe\">\n",
              "  <thead>\n",
              "    <tr style=\"text-align: right;\">\n",
              "      <th></th>\n",
              "      <th>timestamp</th>\n",
              "      <th>value</th>\n",
              "      <th>valueDoll</th>\n",
              "    </tr>\n",
              "  </thead>\n",
              "  <tbody>\n",
              "    <tr>\n",
              "      <th>count</th>\n",
              "      <td>9.999990e+05</td>\n",
              "      <td>999999.000000</td>\n",
              "      <td>9.999990e+05</td>\n",
              "    </tr>\n",
              "    <tr>\n",
              "      <th>mean</th>\n",
              "      <td>1.473296e+09</td>\n",
              "      <td>2.867232</td>\n",
              "      <td>1.778850e+03</td>\n",
              "    </tr>\n",
              "    <tr>\n",
              "      <th>std</th>\n",
              "      <td>4.271460e+04</td>\n",
              "      <td>32.170486</td>\n",
              "      <td>1.993058e+04</td>\n",
              "    </tr>\n",
              "    <tr>\n",
              "      <th>min</th>\n",
              "      <td>1.473222e+09</td>\n",
              "      <td>0.000000</td>\n",
              "      <td>0.000000e+00</td>\n",
              "    </tr>\n",
              "    <tr>\n",
              "      <th>25%</th>\n",
              "      <td>1.473258e+09</td>\n",
              "      <td>0.002308</td>\n",
              "      <td>1.433604e+00</td>\n",
              "    </tr>\n",
              "    <tr>\n",
              "      <th>50%</th>\n",
              "      <td>1.473294e+09</td>\n",
              "      <td>0.030000</td>\n",
              "      <td>1.874850e+01</td>\n",
              "    </tr>\n",
              "    <tr>\n",
              "      <th>75%</th>\n",
              "      <td>1.473336e+09</td>\n",
              "      <td>0.285015</td>\n",
              "      <td>1.768609e+02</td>\n",
              "    </tr>\n",
              "    <tr>\n",
              "      <th>max</th>\n",
              "      <td>1.473368e+09</td>\n",
              "      <td>18891.639834</td>\n",
              "      <td>1.161439e+07</td>\n",
              "    </tr>\n",
              "  </tbody>\n",
              "</table>\n",
              "</div>"
            ],
            "text/plain": [
              "          timestamp          value     valueDoll\n",
              "count  9.999990e+05  999999.000000  9.999990e+05\n",
              "mean   1.473296e+09       2.867232  1.778850e+03\n",
              "std    4.271460e+04      32.170486  1.993058e+04\n",
              "min    1.473222e+09       0.000000  0.000000e+00\n",
              "25%    1.473258e+09       0.002308  1.433604e+00\n",
              "50%    1.473294e+09       0.030000  1.874850e+01\n",
              "75%    1.473336e+09       0.285015  1.768609e+02\n",
              "max    1.473368e+09   18891.639834  1.161439e+07"
            ]
          },
          "metadata": {
            "tags": []
          },
          "execution_count": 7
        }
      ]
    },
    {
      "cell_type": "markdown",
      "metadata": {
        "id": "-E1naHaNQqvk"
      },
      "source": [
        "# Accessing, inserting, etc.\n",
        "\n",
        "A simple way to think of the organization of a dataframe is as a dictionary, with keys corresponding to columns names and values corresponding to lists. By construction, all these \"lists\" must be of the same length in a dataframe. \n",
        "Note that in practice, columns of the Dataframe are pandas objects called `Series`, not lists."
      ]
    },
    {
      "cell_type": "code",
      "metadata": {
        "colab": {
          "base_uri": "https://localhost:8080/"
        },
        "id": "u8WgFi1ZjOxb",
        "outputId": "bc7421b4-d8c6-437d-daad-4113f23f598e"
      },
      "source": [
        "data[\"cl_out\"] #Get a column"
      ],
      "execution_count": null,
      "outputs": [
        {
          "output_type": "execute_result",
          "data": {
            "text/plain": [
              "0              2633\n",
              "1          21231183\n",
              "2          53797835\n",
              "3         121760693\n",
              "4         BTC-e.com\n",
              "            ...    \n",
              "999994    123356081\n",
              "999995     96880646\n",
              "999996     93725777\n",
              "999997     55730177\n",
              "999998     53071260\n",
              "Name: cl_out, Length: 999999, dtype: object"
            ]
          },
          "metadata": {
            "tags": []
          },
          "execution_count": 8
        }
      ]
    },
    {
      "cell_type": "code",
      "metadata": {
        "colab": {
          "base_uri": "https://localhost:8080/"
        },
        "id": "kfwKEnkHj-X8",
        "outputId": "fb4da488-0e1b-4b3e-eda4-11cd5212b6bf"
      },
      "source": [
        "print(data[3:5])#subset rows from 3 to 5 (same notation as for lists)"
      ],
      "execution_count": null,
      "outputs": [
        {
          "output_type": "stream",
          "text": [
            "       cl_in     cl_out   timestamp     value  valueDoll\n",
            "3    4847880  121760693  1473221594  0.118399  72.790337\n",
            "4  139771794  BTC-e.com  1473221594  0.002444   1.502412\n"
          ],
          "name": "stdout"
        }
      ]
    },
    {
      "cell_type": "code",
      "metadata": {
        "colab": {
          "base_uri": "https://localhost:8080/"
        },
        "id": "-4RpxPZyjU_Z",
        "outputId": "ff9762f4-f284-4668-b8cd-a60fa8b218b6"
      },
      "source": [
        "list(data[\"cl_in\"])[:5] #get a list with the values of columns \"cl_in\" and keep only the first 5 elements"
      ],
      "execution_count": null,
      "outputs": [
        {
          "output_type": "execute_result",
          "data": {
            "text/plain": [
              "['21231183', '21231183', '4847880', '4847880', '139771794']"
            ]
          },
          "metadata": {
            "tags": []
          },
          "execution_count": 10
        }
      ]
    },
    {
      "cell_type": "code",
      "metadata": {
        "colab": {
          "base_uri": "https://localhost:8080/",
          "height": 204
        },
        "id": "mYikhFo_jZUl",
        "outputId": "ed346d67-094e-4c9e-e695-88bbd6d7dae6"
      },
      "source": [
        "data[\"value2\"]=data[\"value\"]*2 #creating a new column from an existing one\n",
        "data[\"test\"]=[\"test\"]*len(data) #creating a new column from new data\n",
        "data.head()"
      ],
      "execution_count": null,
      "outputs": [
        {
          "output_type": "execute_result",
          "data": {
            "text/html": [
              "<div>\n",
              "<style scoped>\n",
              "    .dataframe tbody tr th:only-of-type {\n",
              "        vertical-align: middle;\n",
              "    }\n",
              "\n",
              "    .dataframe tbody tr th {\n",
              "        vertical-align: top;\n",
              "    }\n",
              "\n",
              "    .dataframe thead th {\n",
              "        text-align: right;\n",
              "    }\n",
              "</style>\n",
              "<table border=\"1\" class=\"dataframe\">\n",
              "  <thead>\n",
              "    <tr style=\"text-align: right;\">\n",
              "      <th></th>\n",
              "      <th>cl_in</th>\n",
              "      <th>cl_out</th>\n",
              "      <th>timestamp</th>\n",
              "      <th>value</th>\n",
              "      <th>valueDoll</th>\n",
              "      <th>value2</th>\n",
              "      <th>test</th>\n",
              "    </tr>\n",
              "  </thead>\n",
              "  <tbody>\n",
              "    <tr>\n",
              "      <th>0</th>\n",
              "      <td>21231183</td>\n",
              "      <td>2633</td>\n",
              "      <td>1473221594</td>\n",
              "      <td>0.005014</td>\n",
              "      <td>3.082268</td>\n",
              "      <td>0.010027</td>\n",
              "      <td>test</td>\n",
              "    </tr>\n",
              "    <tr>\n",
              "      <th>1</th>\n",
              "      <td>21231183</td>\n",
              "      <td>21231183</td>\n",
              "      <td>1473221594</td>\n",
              "      <td>0.040328</td>\n",
              "      <td>24.793546</td>\n",
              "      <td>0.080657</td>\n",
              "      <td>test</td>\n",
              "    </tr>\n",
              "    <tr>\n",
              "      <th>2</th>\n",
              "      <td>4847880</td>\n",
              "      <td>53797835</td>\n",
              "      <td>1473221594</td>\n",
              "      <td>0.019596</td>\n",
              "      <td>12.047425</td>\n",
              "      <td>0.039192</td>\n",
              "      <td>test</td>\n",
              "    </tr>\n",
              "    <tr>\n",
              "      <th>3</th>\n",
              "      <td>4847880</td>\n",
              "      <td>121760693</td>\n",
              "      <td>1473221594</td>\n",
              "      <td>0.118399</td>\n",
              "      <td>72.790337</td>\n",
              "      <td>0.236797</td>\n",
              "      <td>test</td>\n",
              "    </tr>\n",
              "    <tr>\n",
              "      <th>4</th>\n",
              "      <td>139771794</td>\n",
              "      <td>BTC-e.com</td>\n",
              "      <td>1473221594</td>\n",
              "      <td>0.002444</td>\n",
              "      <td>1.502412</td>\n",
              "      <td>0.004888</td>\n",
              "      <td>test</td>\n",
              "    </tr>\n",
              "  </tbody>\n",
              "</table>\n",
              "</div>"
            ],
            "text/plain": [
              "       cl_in     cl_out   timestamp     value  valueDoll    value2  test\n",
              "0   21231183       2633  1473221594  0.005014   3.082268  0.010027  test\n",
              "1   21231183   21231183  1473221594  0.040328  24.793546  0.080657  test\n",
              "2    4847880   53797835  1473221594  0.019596  12.047425  0.039192  test\n",
              "3    4847880  121760693  1473221594  0.118399  72.790337  0.236797  test\n",
              "4  139771794  BTC-e.com  1473221594  0.002444   1.502412  0.004888  test"
            ]
          },
          "metadata": {
            "tags": []
          },
          "execution_count": 11
        }
      ]
    },
    {
      "cell_type": "code",
      "metadata": {
        "colab": {
          "base_uri": "https://localhost:8080/",
          "height": 419
        },
        "id": "w_81m8IrDIYI",
        "outputId": "2d36e299-63c3-4c32-ef81-1a1d839a31f5"
      },
      "source": [
        "#Create a new dataframe with only some of the columns\n",
        "data[['cl_in', 'timestamp',\"value\"]]"
      ],
      "execution_count": null,
      "outputs": [
        {
          "output_type": "execute_result",
          "data": {
            "text/html": [
              "<div>\n",
              "<style scoped>\n",
              "    .dataframe tbody tr th:only-of-type {\n",
              "        vertical-align: middle;\n",
              "    }\n",
              "\n",
              "    .dataframe tbody tr th {\n",
              "        vertical-align: top;\n",
              "    }\n",
              "\n",
              "    .dataframe thead th {\n",
              "        text-align: right;\n",
              "    }\n",
              "</style>\n",
              "<table border=\"1\" class=\"dataframe\">\n",
              "  <thead>\n",
              "    <tr style=\"text-align: right;\">\n",
              "      <th></th>\n",
              "      <th>cl_in</th>\n",
              "      <th>timestamp</th>\n",
              "      <th>value</th>\n",
              "    </tr>\n",
              "  </thead>\n",
              "  <tbody>\n",
              "    <tr>\n",
              "      <th>0</th>\n",
              "      <td>21231183</td>\n",
              "      <td>1473221594</td>\n",
              "      <td>0.005014</td>\n",
              "    </tr>\n",
              "    <tr>\n",
              "      <th>1</th>\n",
              "      <td>21231183</td>\n",
              "      <td>1473221594</td>\n",
              "      <td>0.040328</td>\n",
              "    </tr>\n",
              "    <tr>\n",
              "      <th>2</th>\n",
              "      <td>4847880</td>\n",
              "      <td>1473221594</td>\n",
              "      <td>0.019596</td>\n",
              "    </tr>\n",
              "    <tr>\n",
              "      <th>3</th>\n",
              "      <td>4847880</td>\n",
              "      <td>1473221594</td>\n",
              "      <td>0.118399</td>\n",
              "    </tr>\n",
              "    <tr>\n",
              "      <th>4</th>\n",
              "      <td>139771794</td>\n",
              "      <td>1473221594</td>\n",
              "      <td>0.002444</td>\n",
              "    </tr>\n",
              "    <tr>\n",
              "      <th>...</th>\n",
              "      <td>...</td>\n",
              "      <td>...</td>\n",
              "      <td>...</td>\n",
              "    </tr>\n",
              "    <tr>\n",
              "      <th>999994</th>\n",
              "      <td>79797142</td>\n",
              "      <td>1473368159</td>\n",
              "      <td>0.837321</td>\n",
              "    </tr>\n",
              "    <tr>\n",
              "      <th>999995</th>\n",
              "      <td>scammer8135</td>\n",
              "      <td>1473368159</td>\n",
              "      <td>0.022898</td>\n",
              "    </tr>\n",
              "    <tr>\n",
              "      <th>999996</th>\n",
              "      <td>scammer8135</td>\n",
              "      <td>1473368159</td>\n",
              "      <td>0.000041</td>\n",
              "    </tr>\n",
              "    <tr>\n",
              "      <th>999997</th>\n",
              "      <td>53071260</td>\n",
              "      <td>1473368159</td>\n",
              "      <td>0.107372</td>\n",
              "    </tr>\n",
              "    <tr>\n",
              "      <th>999998</th>\n",
              "      <td>53071260</td>\n",
              "      <td>1473368159</td>\n",
              "      <td>6.708407</td>\n",
              "    </tr>\n",
              "  </tbody>\n",
              "</table>\n",
              "<p>999999 rows × 3 columns</p>\n",
              "</div>"
            ],
            "text/plain": [
              "              cl_in   timestamp     value\n",
              "0          21231183  1473221594  0.005014\n",
              "1          21231183  1473221594  0.040328\n",
              "2           4847880  1473221594  0.019596\n",
              "3           4847880  1473221594  0.118399\n",
              "4         139771794  1473221594  0.002444\n",
              "...             ...         ...       ...\n",
              "999994     79797142  1473368159  0.837321\n",
              "999995  scammer8135  1473368159  0.022898\n",
              "999996  scammer8135  1473368159  0.000041\n",
              "999997     53071260  1473368159  0.107372\n",
              "999998     53071260  1473368159  6.708407\n",
              "\n",
              "[999999 rows x 3 columns]"
            ]
          },
          "metadata": {
            "tags": []
          },
          "execution_count": 12
        }
      ]
    },
    {
      "cell_type": "markdown",
      "metadata": {
        "id": "mCfiiikO69w3"
      },
      "source": [
        "To filter pandas dataframe, a common method is to use **boolean indexing**. A boolean is a values which has only 2 values: True or False (Equivalently, 1 or 0).\n",
        "\n",
        "Boolean indexing manipulates dataframe rows in 2 steps:\n",
        "\n",
        "1.   Create a list of booleans, with value True or False for each row\n",
        "2.  Keep only rows for which the value is True.\n",
        "\n"
      ]
    },
    {
      "cell_type": "code",
      "metadata": {
        "colab": {
          "base_uri": "https://localhost:8080/"
        },
        "id": "rQ4bhyaMmy7f",
        "outputId": "15d40ebc-2057-4185-ee13-f421785193e5"
      },
      "source": [
        "# Create a list of boolean, True if the value of column \"valueDoll\" is above 10 \n",
        "boollist= data['valueDoll']>=10\n",
        "print(boollist[:5]) #check that there is indeed a value True for rows of the table where the condition is respected"
      ],
      "execution_count": null,
      "outputs": [
        {
          "output_type": "stream",
          "text": [
            "0    False\n",
            "1     True\n",
            "2     True\n",
            "3     True\n",
            "4    False\n",
            "Name: valueDoll, dtype: bool\n"
          ],
          "name": "stdout"
        }
      ]
    },
    {
      "cell_type": "code",
      "metadata": {
        "colab": {
          "base_uri": "https://localhost:8080/",
          "height": 204
        },
        "id": "FSsrDzFTnpA8",
        "outputId": "93b9bc27-731a-469e-b77f-7f55a5ed0016"
      },
      "source": [
        "#We can now filter the table to keep only the rows where this value is true\n",
        "data2=data[boollist]\n",
        "data2.head()"
      ],
      "execution_count": null,
      "outputs": [
        {
          "output_type": "execute_result",
          "data": {
            "text/html": [
              "<div>\n",
              "<style scoped>\n",
              "    .dataframe tbody tr th:only-of-type {\n",
              "        vertical-align: middle;\n",
              "    }\n",
              "\n",
              "    .dataframe tbody tr th {\n",
              "        vertical-align: top;\n",
              "    }\n",
              "\n",
              "    .dataframe thead th {\n",
              "        text-align: right;\n",
              "    }\n",
              "</style>\n",
              "<table border=\"1\" class=\"dataframe\">\n",
              "  <thead>\n",
              "    <tr style=\"text-align: right;\">\n",
              "      <th></th>\n",
              "      <th>cl_in</th>\n",
              "      <th>cl_out</th>\n",
              "      <th>timestamp</th>\n",
              "      <th>value</th>\n",
              "      <th>valueDoll</th>\n",
              "      <th>value2</th>\n",
              "      <th>test</th>\n",
              "    </tr>\n",
              "  </thead>\n",
              "  <tbody>\n",
              "    <tr>\n",
              "      <th>1</th>\n",
              "      <td>21231183</td>\n",
              "      <td>21231183</td>\n",
              "      <td>1473221594</td>\n",
              "      <td>0.040328</td>\n",
              "      <td>24.793546</td>\n",
              "      <td>0.080657</td>\n",
              "      <td>test</td>\n",
              "    </tr>\n",
              "    <tr>\n",
              "      <th>2</th>\n",
              "      <td>4847880</td>\n",
              "      <td>53797835</td>\n",
              "      <td>1473221594</td>\n",
              "      <td>0.019596</td>\n",
              "      <td>12.047425</td>\n",
              "      <td>0.039192</td>\n",
              "      <td>test</td>\n",
              "    </tr>\n",
              "    <tr>\n",
              "      <th>3</th>\n",
              "      <td>4847880</td>\n",
              "      <td>121760693</td>\n",
              "      <td>1473221594</td>\n",
              "      <td>0.118399</td>\n",
              "      <td>72.790337</td>\n",
              "      <td>0.236797</td>\n",
              "      <td>test</td>\n",
              "    </tr>\n",
              "    <tr>\n",
              "      <th>5</th>\n",
              "      <td>139771794</td>\n",
              "      <td>85172742</td>\n",
              "      <td>1473221594</td>\n",
              "      <td>0.044431</td>\n",
              "      <td>27.315937</td>\n",
              "      <td>0.088863</td>\n",
              "      <td>test</td>\n",
              "    </tr>\n",
              "    <tr>\n",
              "      <th>14</th>\n",
              "      <td>157519350</td>\n",
              "      <td>MINU82</td>\n",
              "      <td>1473221594</td>\n",
              "      <td>0.016456</td>\n",
              "      <td>10.116984</td>\n",
              "      <td>0.032912</td>\n",
              "      <td>test</td>\n",
              "    </tr>\n",
              "  </tbody>\n",
              "</table>\n",
              "</div>"
            ],
            "text/plain": [
              "        cl_in     cl_out   timestamp     value  valueDoll    value2  test\n",
              "1    21231183   21231183  1473221594  0.040328  24.793546  0.080657  test\n",
              "2     4847880   53797835  1473221594  0.019596  12.047425  0.039192  test\n",
              "3     4847880  121760693  1473221594  0.118399  72.790337  0.236797  test\n",
              "5   139771794   85172742  1473221594  0.044431  27.315937  0.088863  test\n",
              "14  157519350     MINU82  1473221594  0.016456  10.116984  0.032912  test"
            ]
          },
          "metadata": {
            "tags": []
          },
          "execution_count": 15
        }
      ]
    },
    {
      "cell_type": "code",
      "metadata": {
        "colab": {
          "base_uri": "https://localhost:8080/",
          "height": 258
        },
        "id": "GUF6Z-VonqhL",
        "outputId": "51af582e-0708-4314-f6eb-77f4e70dbfaf"
      },
      "source": [
        "#Usually, we write this in a single line:\n",
        "d=data[data['valueDoll']>=10]\n",
        "#We can use boolean operators and (&), or(|), etc. :\n",
        "#keeps transactions with dollar values between 10 and 30\n",
        "d1=data[(data['valueDoll']>=10) & (data['valueDoll']<=30)] \n",
        "\n",
        "#keeps transactions with dollar values above 10 OR with timestamp = 1473221594\n",
        "d2=d1[(d['valueDoll']>=10) | (d1['timestamp']==1473221594)]\n",
        "\n",
        "\n",
        "#keeps transactions where the cl_out value is NOT a numeric value, with ~ meaning \"not\"\n",
        "d3=d2[(~d2[\"cl_in\"].astype(str).str.isnumeric())]\n",
        "d3.head()"
      ],
      "execution_count": null,
      "outputs": [
        {
          "output_type": "stream",
          "text": [
            "/usr/local/lib/python3.6/dist-packages/ipykernel_launcher.py:8: UserWarning: Boolean Series key will be reindexed to match DataFrame index.\n",
            "  \n"
          ],
          "name": "stderr"
        },
        {
          "output_type": "execute_result",
          "data": {
            "text/html": [
              "<div>\n",
              "<style scoped>\n",
              "    .dataframe tbody tr th:only-of-type {\n",
              "        vertical-align: middle;\n",
              "    }\n",
              "\n",
              "    .dataframe tbody tr th {\n",
              "        vertical-align: top;\n",
              "    }\n",
              "\n",
              "    .dataframe thead th {\n",
              "        text-align: right;\n",
              "    }\n",
              "</style>\n",
              "<table border=\"1\" class=\"dataframe\">\n",
              "  <thead>\n",
              "    <tr style=\"text-align: right;\">\n",
              "      <th></th>\n",
              "      <th>cl_in</th>\n",
              "      <th>cl_out</th>\n",
              "      <th>timestamp</th>\n",
              "      <th>value</th>\n",
              "      <th>valueDoll</th>\n",
              "      <th>value2</th>\n",
              "      <th>test</th>\n",
              "    </tr>\n",
              "  </thead>\n",
              "  <tbody>\n",
              "    <tr>\n",
              "      <th>75</th>\n",
              "      <td>jetxsz017</td>\n",
              "      <td>jetxsz017</td>\n",
              "      <td>1473221594</td>\n",
              "      <td>0.020702</td>\n",
              "      <td>12.727512</td>\n",
              "      <td>0.041404</td>\n",
              "      <td>test</td>\n",
              "    </tr>\n",
              "    <tr>\n",
              "      <th>77</th>\n",
              "      <td>jetxsz017</td>\n",
              "      <td>jetxsz017</td>\n",
              "      <td>1473221594</td>\n",
              "      <td>0.030164</td>\n",
              "      <td>18.544532</td>\n",
              "      <td>0.060328</td>\n",
              "      <td>test</td>\n",
              "    </tr>\n",
              "    <tr>\n",
              "      <th>88</th>\n",
              "      <td>scammer8135</td>\n",
              "      <td>138686299</td>\n",
              "      <td>1473221594</td>\n",
              "      <td>0.023826</td>\n",
              "      <td>14.647913</td>\n",
              "      <td>0.047652</td>\n",
              "      <td>test</td>\n",
              "    </tr>\n",
              "    <tr>\n",
              "      <th>145</th>\n",
              "      <td>GeertBerkers</td>\n",
              "      <td>GeertBerkers</td>\n",
              "      <td>1473221594</td>\n",
              "      <td>0.028820</td>\n",
              "      <td>17.718051</td>\n",
              "      <td>0.057639</td>\n",
              "      <td>test</td>\n",
              "    </tr>\n",
              "    <tr>\n",
              "      <th>185</th>\n",
              "      <td>jetxsz017</td>\n",
              "      <td>jetxsz017</td>\n",
              "      <td>1473221594</td>\n",
              "      <td>0.032129</td>\n",
              "      <td>19.752840</td>\n",
              "      <td>0.064259</td>\n",
              "      <td>test</td>\n",
              "    </tr>\n",
              "  </tbody>\n",
              "</table>\n",
              "</div>"
            ],
            "text/plain": [
              "            cl_in        cl_out   timestamp  ...  valueDoll    value2  test\n",
              "75      jetxsz017     jetxsz017  1473221594  ...  12.727512  0.041404  test\n",
              "77      jetxsz017     jetxsz017  1473221594  ...  18.544532  0.060328  test\n",
              "88    scammer8135     138686299  1473221594  ...  14.647913  0.047652  test\n",
              "145  GeertBerkers  GeertBerkers  1473221594  ...  17.718051  0.057639  test\n",
              "185     jetxsz017     jetxsz017  1473221594  ...  19.752840  0.064259  test\n",
              "\n",
              "[5 rows x 7 columns]"
            ]
          },
          "metadata": {
            "tags": []
          },
          "execution_count": 18
        }
      ]
    },
    {
      "cell_type": "markdown",
      "metadata": {
        "id": "E7Ox8wWIjhes"
      },
      "source": [
        "Note: normal boolean python operations are \"and\", \"or\", \"not\". But to apply those parameters on list of booleans, we need to use instead bynary operators equivalant: \"and\"=>&, \"or\"=>|, \"not\"=>~.\n",
        "You can check for instance https://www.geeksforgeeks.org/difference-between-and-and-in-python/ to fully understand the difference."
      ]
    },
    {
      "cell_type": "markdown",
      "metadata": {
        "id": "mTHH1aFxkyvx"
      },
      "source": [
        "#Group By: split-apply-combine\n",
        "Group by operations allow to group some rows based on their values in a column, and then to merge them into a single row, with the values of the row being some combination of the values of the merged ones. Let's see examples."
      ]
    },
    {
      "cell_type": "code",
      "metadata": {
        "colab": {
          "base_uri": "https://localhost:8080/"
        },
        "id": "D-m4_yGoAGVx",
        "outputId": "e5d6c14c-9097-42c9-e98b-b0800ce4aa69"
      },
      "source": [
        "#Count the number of transactions per timestamp\n",
        "#-groupby(\"timestamp\") means that we want to keep one row per timestamp\n",
        "#-count() means that we simply want to count how many rows there are by timestamp\n",
        "countTimestamp = data.groupby(\"timestamp\").count()\n",
        "print(countTimestamp.head())"
      ],
      "execution_count": null,
      "outputs": [
        {
          "output_type": "stream",
          "text": [
            "            cl_in  cl_out  value  valueDoll  value2  test\n",
            "timestamp                                                \n",
            "1473221594   2425    2425   2425       2425    2425  2425\n",
            "1473221742   1333    1333   1333       1333    1333  1333\n",
            "1473221852   1039    1039   1039       1039    1039  1039\n",
            "1473222408   4870    4870   4870       4870    4870  4870\n",
            "1473223188   4226    4226   4226       4226    4226  4226\n"
          ],
          "name": "stdout"
        }
      ]
    },
    {
      "cell_type": "code",
      "metadata": {
        "colab": {
          "base_uri": "https://localhost:8080/"
        },
        "id": "YYSiFOeTA6ny",
        "outputId": "7f781580-20e5-4d55-d31d-3c0e75dc3eb0"
      },
      "source": [
        "#Count the sum of values in each columns for each user sending at least a transaction.\n",
        "#-with sum, we compute the sum of all the rows that are grouped\n",
        "sumUsers = data.groupby(\"cl_out\").sum()\n",
        "#Print the sum of values sent by user\n",
        "print(sumUsers[\"value\"].head())\n",
        "#We could also use min, max, std (standard deviation), mean, and others instead of sum()."
      ],
      "execution_count": null,
      "outputs": [
        {
          "output_type": "stream",
          "text": [
            "cl_out\n",
            "100000113    103.787414\n",
            "100000925      0.024876\n",
            "100001395      0.756372\n",
            "100002017      0.024711\n",
            "100002167      0.109612\n",
            "Name: value, dtype: float64\n"
          ],
          "name": "stdout"
        }
      ]
    },
    {
      "cell_type": "code",
      "metadata": {
        "colab": {
          "base_uri": "https://localhost:8080/"
        },
        "id": "DpszK41kC8pT",
        "outputId": "bbb90104-8887-4484-9d35-c6c5359f52b8"
      },
      "source": [
        "#The keyword \"agg\" allows to control more precisely the way to aggregate groups of rows. \n",
        "#For instance, here we want to compute for the column \"value\", the sum, count, max, mean and min properties\n",
        "sum_and_count=data.groupby(\"cl_out\").agg({'value': ['sum','count',\"max\",\"mean\",\"min\"]})\n",
        "print(sum_and_count.head())\n",
        "#Since columns now have 2 levels of names, you need to use a pair to name them.\n",
        "print(\"\\n mean top 5: \\n\", sum_and_count[(\"value\",\"mean\")][:5])"
      ],
      "execution_count": null,
      "outputs": [
        {
          "output_type": "stream",
          "text": [
            "                value                                          \n",
            "                  sum count         max        mean         min\n",
            "cl_out                                                         \n",
            "100000113  103.787414     1  103.787414  103.787414  103.787414\n",
            "100000925    0.024876     1    0.024876    0.024876    0.024876\n",
            "100001395    0.756372     1    0.756372    0.756372    0.756372\n",
            "100002017    0.024711     2    0.021668    0.012356    0.003043\n",
            "100002167    0.109612     1    0.109612    0.109612    0.109612\n",
            "\n",
            " mean top 5: \n",
            " cl_out\n",
            "100000113    103.787414\n",
            "100000925      0.024876\n",
            "100001395      0.756372\n",
            "100002017      0.012356\n",
            "100002167      0.109612\n",
            "Name: (value, mean), dtype: float64\n"
          ],
          "name": "stdout"
        }
      ]
    },
    {
      "cell_type": "markdown",
      "metadata": {
        "id": "IQpVGavd36NW"
      },
      "source": [
        "# Sorting"
      ]
    },
    {
      "cell_type": "code",
      "metadata": {
        "colab": {
          "base_uri": "https://localhost:8080/"
        },
        "id": "WABiwpcaBYaA",
        "outputId": "81d21768-2f9d-485f-f4e2-b1ca4c8617e9"
      },
      "source": [
        "#Sort the original data according to the amount of transactions, largest first\n",
        "sorted = data.sort_values(\"value\", ascending=[False])\n",
        "print(sorted.head())"
      ],
      "execution_count": null,
      "outputs": [
        {
          "output_type": "stream",
          "text": [
            "                        cl_in                 cl_out  ...        value2  test\n",
            "3138    LocalBitcoins.com-old  LocalBitcoins.com-old  ...  37783.279667  test\n",
            "977260                9256583              105795887  ...  12238.638804  test\n",
            "691762              109990063              101642088  ...  10505.549467  test\n",
            "874078               24966308               24966308  ...  10483.903920  test\n",
            "706845                   9678                9256583  ...   8001.397382  test\n",
            "\n",
            "[5 rows x 7 columns]\n"
          ],
          "name": "stdout"
        }
      ]
    },
    {
      "cell_type": "code",
      "metadata": {
        "colab": {
          "base_uri": "https://localhost:8080/"
        },
        "id": "PdcgPJ38rPOO",
        "outputId": "d0104aa7-c613-4de4-dbcb-81dd2838d8d7"
      },
      "source": [
        "#Sorting the aggregation done before, to get users with largest amounts sent first\n",
        "print(sumUsers.sort_values(\"value\", ascending=[False]).head())"
      ],
      "execution_count": null,
      "outputs": [
        {
          "output_type": "stream",
          "text": [
            "                   timestamp          value     valueDoll         value2\n",
            "cl_out                                                                  \n",
            "572656        24304924061849  373254.827693  2.313816e+08  746509.655386\n",
            "119945496      2320443305879  110838.884098  6.872171e+07  221677.768196\n",
            "58708912        914938850062   34928.691515  2.182357e+07   69857.383029\n",
            "Huobi.com-2   12695331276361   33221.566507  2.061997e+07   66443.133013\n",
            "Poloniex.com   5460050701987   31365.384697  1.943337e+07   62730.769395\n"
          ],
          "name": "stdout"
        }
      ]
    },
    {
      "cell_type": "markdown",
      "metadata": {
        "id": "OB2vS21b7r3I"
      },
      "source": [
        "# Date\n",
        "Python has a standard class to manipulate dates (datetime), useful to extract the day of the weak, to increase a date by one hour, one week, etc. Pandas also has those functionalites"
      ]
    },
    {
      "cell_type": "code",
      "metadata": {
        "colab": {
          "base_uri": "https://localhost:8080/"
        },
        "id": "glRSXFzk0Jdi",
        "outputId": "b835e7fd-ffa1-405b-bf69-3d378db03bb5"
      },
      "source": [
        "#transforming from timestamp to the \"datetime\" standard format\n",
        "data['date'] = pd.to_datetime(data['timestamp'],unit='s')\n",
        "print(data.head())"
      ],
      "execution_count": null,
      "outputs": [
        {
          "output_type": "stream",
          "text": [
            "       cl_in     cl_out   timestamp  ...    value2  test                date\n",
            "0   21231183       2633  1473221594  ...  0.010027  test 2016-09-07 04:13:14\n",
            "1   21231183   21231183  1473221594  ...  0.080657  test 2016-09-07 04:13:14\n",
            "2    4847880   53797835  1473221594  ...  0.039192  test 2016-09-07 04:13:14\n",
            "3    4847880  121760693  1473221594  ...  0.236797  test 2016-09-07 04:13:14\n",
            "4  139771794  BTC-e.com  1473221594  ...  0.004888  test 2016-09-07 04:13:14\n",
            "\n",
            "[5 rows x 8 columns]\n"
          ],
          "name": "stdout"
        }
      ]
    },
    {
      "cell_type": "code",
      "metadata": {
        "colab": {
          "base_uri": "https://localhost:8080/",
          "height": 204
        },
        "id": "QENf6EGs-JcB",
        "outputId": "f753489d-0c8a-4e6d-877c-3d459c410fe2"
      },
      "source": [
        "#filter to keep only transactions occuring between 20:00 and 23:00\n",
        "data[(data[\"date\"].dt.hour>=20) & (data[\"date\"].dt.hour<23)].head()"
      ],
      "execution_count": null,
      "outputs": [
        {
          "output_type": "execute_result",
          "data": {
            "text/html": [
              "<div>\n",
              "<style scoped>\n",
              "    .dataframe tbody tr th:only-of-type {\n",
              "        vertical-align: middle;\n",
              "    }\n",
              "\n",
              "    .dataframe tbody tr th {\n",
              "        vertical-align: top;\n",
              "    }\n",
              "\n",
              "    .dataframe thead th {\n",
              "        text-align: right;\n",
              "    }\n",
              "</style>\n",
              "<table border=\"1\" class=\"dataframe\">\n",
              "  <thead>\n",
              "    <tr style=\"text-align: right;\">\n",
              "      <th></th>\n",
              "      <th>cl_in</th>\n",
              "      <th>cl_out</th>\n",
              "      <th>timestamp</th>\n",
              "      <th>value</th>\n",
              "      <th>valueDoll</th>\n",
              "      <th>value2</th>\n",
              "      <th>test</th>\n",
              "      <th>date</th>\n",
              "    </tr>\n",
              "  </thead>\n",
              "  <tbody>\n",
              "    <tr>\n",
              "      <th>397978</th>\n",
              "      <td>61923327</td>\n",
              "      <td>yuni1978</td>\n",
              "      <td>1473278929</td>\n",
              "      <td>0.003380</td>\n",
              "      <td>2.077990</td>\n",
              "      <td>0.006760</td>\n",
              "      <td>test</td>\n",
              "      <td>2016-09-07 20:08:49</td>\n",
              "    </tr>\n",
              "    <tr>\n",
              "      <th>397979</th>\n",
              "      <td>61923327</td>\n",
              "      <td>61923327</td>\n",
              "      <td>1473278929</td>\n",
              "      <td>3.098886</td>\n",
              "      <td>1905.164290</td>\n",
              "      <td>6.197773</td>\n",
              "      <td>test</td>\n",
              "      <td>2016-09-07 20:08:49</td>\n",
              "    </tr>\n",
              "    <tr>\n",
              "      <th>397980</th>\n",
              "      <td>56898470</td>\n",
              "      <td>123706968</td>\n",
              "      <td>1473278929</td>\n",
              "      <td>0.000055</td>\n",
              "      <td>0.033568</td>\n",
              "      <td>0.000109</td>\n",
              "      <td>test</td>\n",
              "      <td>2016-09-07 20:08:49</td>\n",
              "    </tr>\n",
              "    <tr>\n",
              "      <th>397981</th>\n",
              "      <td>56898470</td>\n",
              "      <td>80873869</td>\n",
              "      <td>1473278929</td>\n",
              "      <td>0.027069</td>\n",
              "      <td>16.641751</td>\n",
              "      <td>0.054138</td>\n",
              "      <td>test</td>\n",
              "      <td>2016-09-07 20:08:49</td>\n",
              "    </tr>\n",
              "    <tr>\n",
              "      <th>397982</th>\n",
              "      <td>117749919</td>\n",
              "      <td>60416302</td>\n",
              "      <td>1473278929</td>\n",
              "      <td>0.000437</td>\n",
              "      <td>0.268731</td>\n",
              "      <td>0.000874</td>\n",
              "      <td>test</td>\n",
              "      <td>2016-09-07 20:08:49</td>\n",
              "    </tr>\n",
              "  </tbody>\n",
              "</table>\n",
              "</div>"
            ],
            "text/plain": [
              "            cl_in     cl_out   timestamp  ...    value2  test                date\n",
              "397978   61923327   yuni1978  1473278929  ...  0.006760  test 2016-09-07 20:08:49\n",
              "397979   61923327   61923327  1473278929  ...  6.197773  test 2016-09-07 20:08:49\n",
              "397980   56898470  123706968  1473278929  ...  0.000109  test 2016-09-07 20:08:49\n",
              "397981   56898470   80873869  1473278929  ...  0.054138  test 2016-09-07 20:08:49\n",
              "397982  117749919   60416302  1473278929  ...  0.000874  test 2016-09-07 20:08:49\n",
              "\n",
              "[5 rows x 8 columns]"
            ]
          },
          "metadata": {
            "tags": []
          },
          "execution_count": 28
        }
      ]
    },
    {
      "cell_type": "code",
      "metadata": {
        "colab": {
          "base_uri": "https://localhost:8080/"
        },
        "id": "RVhyKurU1sXq",
        "outputId": "1f6adcbd-ecd9-41af-d628-d592302ea6f6"
      },
      "source": [
        "#Compute the total amount of transactions made by hour\n",
        "data.groupby(data[\"date\"].dt.floor(\"h\")).sum()[\"value\"]"
      ],
      "execution_count": null,
      "outputs": [
        {
          "output_type": "execute_result",
          "data": {
            "text/plain": [
              "date\n",
              "2016-09-07 04:00:00     53815.874447\n",
              "2016-09-07 05:00:00     50326.836331\n",
              "2016-09-07 06:00:00     61560.013593\n",
              "2016-09-07 07:00:00     29532.376492\n",
              "2016-09-07 08:00:00     59067.325182\n",
              "2016-09-07 09:00:00    151775.975763\n",
              "2016-09-07 10:00:00     39970.795887\n",
              "2016-09-07 11:00:00     67318.995925\n",
              "2016-09-07 12:00:00     66393.169340\n",
              "2016-09-07 13:00:00    174143.891065\n",
              "2016-09-07 14:00:00    100954.518925\n",
              "2016-09-07 15:00:00    101487.087924\n",
              "2016-09-07 16:00:00     75468.458567\n",
              "2016-09-07 17:00:00     68649.327163\n",
              "2016-09-07 18:00:00     42288.292904\n",
              "2016-09-07 19:00:00     45728.451356\n",
              "2016-09-07 20:00:00     59363.059290\n",
              "2016-09-07 21:00:00     34234.463406\n",
              "2016-09-07 22:00:00     25766.139911\n",
              "2016-09-07 23:00:00     52241.302936\n",
              "2016-09-08 00:00:00     26160.997385\n",
              "2016-09-08 01:00:00     53574.901374\n",
              "2016-09-08 02:00:00     45780.546876\n",
              "2016-09-08 03:00:00     35772.993086\n",
              "2016-09-08 04:00:00     54227.872295\n",
              "2016-09-08 05:00:00     51413.009582\n",
              "2016-09-08 06:00:00     37542.667381\n",
              "2016-09-08 07:00:00     53719.914652\n",
              "2016-09-08 08:00:00     79657.406624\n",
              "2016-09-08 09:00:00     89300.093631\n",
              "2016-09-08 10:00:00     90945.249545\n",
              "2016-09-08 11:00:00     92495.905942\n",
              "2016-09-08 12:00:00     82721.145616\n",
              "2016-09-08 13:00:00     96758.559018\n",
              "2016-09-08 14:00:00    106900.253915\n",
              "2016-09-08 15:00:00     90931.565616\n",
              "2016-09-08 16:00:00     31767.831196\n",
              "2016-09-08 17:00:00    106579.050441\n",
              "2016-09-08 18:00:00    138103.047084\n",
              "2016-09-08 19:00:00     42657.523012\n",
              "2016-09-08 20:00:00    100131.811174\n",
              "Name: value, dtype: float64"
            ]
          },
          "metadata": {
            "tags": []
          },
          "execution_count": 29
        }
      ]
    },
    {
      "cell_type": "markdown",
      "metadata": {
        "id": "6YG4F-pY_GNo"
      },
      "source": [
        "# Plotting\n",
        "Pandas has a simple interface built on top of matplotlib and thus compatible with it to draw simple plots.\n",
        "\n",
        "If you need more advanced plots, I recommend the `seaborn` library, that also accept pandas dataframe as input"
      ]
    },
    {
      "cell_type": "code",
      "metadata": {
        "id": "_DOy6iEHAahP"
      },
      "source": [
        ""
      ],
      "execution_count": null,
      "outputs": []
    },
    {
      "cell_type": "code",
      "metadata": {
        "colab": {
          "base_uri": "https://localhost:8080/",
          "height": 265
        },
        "id": "3mqnmw6V4XjO",
        "outputId": "663d7178-0aeb-4c05-e31c-08f7cad3fae6"
      },
      "source": [
        "#Plot the distribution of values of transactions\n",
        "ax=data[\"value\"].plot.hist(stacked=True, bins=100)\n",
        "ax.set_yscale('log') #with log scale to better see the distribution\n",
        "#(note that ax.set_yscale is a normal pyplot command )"
      ],
      "execution_count": null,
      "outputs": [
        {
          "output_type": "display_data",
          "data": {
            "image/png": "[encoded data removed]",
            "text/plain": [
              "<Figure size 432x288 with 1 Axes>"
            ]
          },
          "metadata": {
            "tags": [],
            "needs_background": "light"
          }
        }
      ]
    },
    {
      "cell_type": "code",
      "metadata": {
        "colab": {
          "base_uri": "https://localhost:8080/",
          "height": 265
        },
        "id": "9ffgrPXG4c68",
        "outputId": "828f1552-7d1a-4a51-d2df-c866f512e361"
      },
      "source": [
        "#Piechart of amounts sent by users, for users who have sent more than 10000 btc\n",
        "sumUsers[\"value\"][sumUsers[\"value\"]>10000].plot.pie()"
      ],
      "execution_count": null,
      "outputs": [
        {
          "output_type": "execute_result",
          "data": {
            "text/plain": [
              "<matplotlib.axes._subplots.AxesSubplot at 0x7fe4fbbe8a90>"
            ]
          },
          "metadata": {
            "tags": []
          },
          "execution_count": 45
        },
        {
          "output_type": "display_data",
          "data": {
            "image/png": "[encoded data removed]",
            "text/plain": [
              "<Figure size 432x288 with 1 Axes>"
            ]
          },
          "metadata": {
            "tags": []
          }
        }
      ]
    },
    {
      "cell_type": "code",
      "metadata": {
        "colab": {
          "base_uri": "https://localhost:8080/",
          "height": 283
        },
        "id": "NRyooIf5EhgJ",
        "outputId": "43bee510-586e-436d-93c4-a3c9164ad083"
      },
      "source": [
        "#plot the relation between the sum of amounts sent and the number of transactions, \n",
        "#for users who have sent more than 1000 btc\n",
        "sum_and_count=data.groupby(\"cl_out\").agg({'value': ['sum','count',\"max\",\"mean\",\"min\"]})\n",
        "main_users=sum_and_count[sum_and_count[(\"value\",\"sum\")]>1000]\n",
        "ax=main_users.plot.scatter(x=(\"value\",\"sum\"),y=(\"value\",\"count\"))\n",
        "ax.set_xscale('log')#with log scale to better see the distribution\n",
        "ax.set_yscale('log')#with log scale to better see the distribution"
      ],
      "execution_count": null,
      "outputs": [
        {
          "output_type": "display_data",
          "data": {
            "image/png": "[encoded data removed]",
            "text/plain": [
              "<Figure size 432x288 with 1 Axes>"
            ]
          },
          "metadata": {
            "tags": [],
            "needs_background": "light"
          }
        }
      ]
    },
    {
      "cell_type": "code",
      "metadata": {
        "colab": {
          "base_uri": "https://localhost:8080/",
          "height": 321
        },
        "id": "pYc3v_4DHMVg",
        "outputId": "16a1bc1c-77fd-4f5a-9606-4365f4564524"
      },
      "source": [
        "#Plot the evolution of the number of transaction per hour\n",
        "data.groupby(data[\"date\"].dt.floor(\"h\")).sum()[\"value\"].plot()"
      ],
      "execution_count": null,
      "outputs": [
        {
          "output_type": "execute_result",
          "data": {
            "text/plain": [
              "<matplotlib.axes._subplots.AxesSubplot at 0x7fe4fb5b3dd8>"
            ]
          },
          "metadata": {
            "tags": []
          },
          "execution_count": 48
        },
        {
          "output_type": "display_data",
          "data": {
            "image/png": "[encoded data removed]",
            "text/plain": [
              "<Figure size 432x288 with 1 Axes>"
            ]
          },
          "metadata": {
            "tags": [],
            "needs_background": "light"
          }
        }
      ]
    }
  ]
}